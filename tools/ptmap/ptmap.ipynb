{
 "cells": [
  {
   "cell_type": "code",
   "execution_count": 1,
   "metadata": {},
   "outputs": [],
   "source": [
    "import cv2\n",
    "import glob\n",
    "import matplotlib.pyplot as plt\n",
    "import json\n",
    "import matplotlib.image as mpimg\n",
    "from matplotlib.patches import ConnectionPatch\n",
    "import numpy as np\n",
    "import os.path as osp\n",
    "import random\n",
    "from tqdm import tqdm\n",
    "from scipy.spatial import distance\n"
   ]
  },
  {
   "cell_type": "code",
   "execution_count": 2,
   "metadata": {},
   "outputs": [
    {
     "name": "stdout",
     "output_type": "stream",
     "text": [
      "0\n"
     ]
    }
   ],
   "source": [
    "jpath_list = glob.glob(\"/home/alien_yhl/results/results_img_align/all_6w/*.json\")\n",
    "print(len(jpath_list))                "
   ]
  },
  {
   "cell_type": "code",
   "execution_count": 3,
   "metadata": {},
   "outputs": [],
   "source": [
    "def draw_pts(pts = [([300,300], [253,313])]):  #(tem_pt , sam_pt)\n",
    "    for i, pt in enumerate(pts):\n",
    "        #change np.image coords to plt.plot coords\n",
    "        # pt[0][1], pt[0][0] = pt[0][0], pt[0][1]\n",
    "        # pt[1][1], pt[1][0] = pt[1][0], pt[1][1]\n",
    "\n",
    "        ax[0].plot(pt[0][0], pt[0][1], 'r.')\n",
    "        ax[0].text(pt[0][0], pt[0][1]*0.97, str(i+1) )\n",
    "        ax[1].plot(pt[1][0], pt[1][1], 'r.')\n",
    "        ax[1].text(pt[1][0], pt[1][1]*0.97, str(i+1) )\n",
    "        \n",
    "        con = ConnectionPatch(pt[0], pt[1], coordsA = \"data\", coordsB = \"data\",axesA= ax[0], axesB = ax[1])\n",
    "        fig.add_artist(con)\n",
    "def find_mpt(tem_pt, H):\n",
    "    #change np.image coords to plt.plot coords\n",
    "    # tem_pt[0], tem_pt[1] = tem_pt[1], tem_pt[0]\n",
    "    \n",
    "    _tem_pt = list(tem_pt)\n",
    "    _tem_pt.append(1)\n",
    "    _tem_pt = np.array(_tem_pt)\n",
    "    H = np.array(H)\n",
    "    # tem_pt = tem_pt.reshape(-1,1)\n",
    "    sam_pt = H @ _tem_pt\n",
    "    sam_pt = list(sam_pt[0:2]/sam_pt[2])\n",
    "    return (tem_pt, sam_pt)\n",
    "\n",
    "def find_gt_template(id):\n",
    "    jpath = glob.glob(f\"/data/home/yanghanlong/data/image_retrieval/anno_cleaned/{id}.json\")\n",
    "    with open(jpath[0], 'r') as f:\n",
    "        dt = json.load(f)\n",
    "    tem_path = dt[\"gt_template_image\"]\n",
    "    if tem_path == \"\":\n",
    "        return (-1, tem_path)\n",
    "    else:\n",
    "        return (cv2.imread(osp.join(\"/data/home/yanghanlong/data/image_retrieval/template_image\", tem_path)), tem_path)\n",
    "    \n",
    "def find_gt_index(data):\n",
    "    for k in data[\"alignment_results\"]:\n",
    "        if data[\"alignment_results\"][k][\"isGroundTruthTemplate\"] == 1:\n",
    "            return k\n",
    "    return -1\n",
    "def find_gt_H(data, k):\n",
    "    return data[\"alignment_results\"][k][\"alignment_params\"][\"H\"]\n",
    "\n",
    "def pt_scale2ori( mpts,data, k):\n",
    "    tem_scale = data[\"alignment_results\"][k][\"alignment_params\"][\"template_xy_scales\"]\n",
    "    sam_scale = data[\"alignment_results\"][k][\"alignment_params\"][\"sample_xy_scales\"]\n",
    "    _mpts = []\n",
    "    for pt in mpts:\n",
    "        pt[0][0] /= tem_scale[0]\n",
    "        pt[0][1] /= tem_scale[1]\n",
    "        pt[1][0] /= sam_scale[0]\n",
    "        pt[1][1] /= sam_scale[1]\n",
    "        _mpts.append(pt)\n",
    "    return _mpts\n",
    "\n",
    "def find_pts_with_threshold(img):\n",
    "    pixel_list = []\n",
    "    gray_img = cv2.cvtColor(img, cv2.COLOR_BGR2GRAY)\n",
    "    ret, thresh = cv2.threshold(gray_img, 127, 255, cv2.THRESH_BINARY+cv2.THRESH_OTSU)\n",
    "    for y in range(thresh.shape[0]):\n",
    "        for x in range(thresh.shape[1]):\n",
    "            if thresh[y, x] == 0:\n",
    "                pixel_list.append([x, y])\n",
    "    return pixel_list\n",
    "\n",
    "\n",
    "\n",
    "    "
   ]
  },
  {
   "cell_type": "code",
   "execution_count": 4,
   "metadata": {},
   "outputs": [],
   "source": [
    "def find_tem_pts(tem, num_pts, dxy = [320, 240]):\n",
    "    global H\n",
    "    array_H = np.array(H)\n",
    "    inverse_H = np.linalg.inv(array_H)\n",
    "\n",
    "    black_pixels = []\n",
    "    # black_pixels = [[x+dxy[0], y+ dxy[1]] for x, y in find_pts_with_threshold(tem)]\n",
    "    for i in range(0, tem.shape[0]-1, 1):\n",
    "        for j in range(0, tem.shape[1]-1, 1):\n",
    "            if tem[i][j].sum() < 100:\n",
    "                black_pixels.append([j+dxy[0], i+dxy[1]])\n",
    "            else:\n",
    "                pass\n",
    "                if len(black_pixels) > 2:\n",
    "                    if black_pixels[-1][0] - black_pixels[-2][0] == 2:\n",
    "                        black_pixels.pop()\n",
    "    _black_pixels = list(black_pixels)\n",
    "    for  b_pixel in _black_pixels:\n",
    "        _tem_pt = find_mpt(b_pixel, H)[1]\n",
    "        if (0 < _tem_pt[0] < 478) and (0 < _tem_pt[1] < 638): #delete pts out of bound\n",
    "            continue\n",
    "        else:\n",
    "           black_pixels.remove(b_pixel)\n",
    "    print(\"=\"*20)\n",
    "    print(len(black_pixels))\n",
    "    print(black_pixels[0:10])\n",
    "    print(\"=\"*20)\n",
    "    num_allpts = len(black_pixels)\n",
    "    # k = 0\n",
    "    # while num_allpts < num_pts*2:\n",
    "    #     i = random.randint(0, tem.shape[0] - 1)\n",
    "    #     j = random.randint(0, tem.shape[1] - 1)\n",
    "    #     color = tem[i][j]\n",
    "    #     if color.sum() < 10:\n",
    "    #         black_pixels.append([i,j])\n",
    "    #     k+=1\n",
    "    #     if k > 1000000:\n",
    "    #         break\n",
    "    if num_allpts == 0:\n",
    "        return []\n",
    "    elif num_allpts < num_pts:\n",
    "        if len(black_pixels)>1 and distance.euclidean(black_pixels[0], black_pixels[-1]) < 10: #check if pts too close\n",
    "            black_pixels = black_pixels[0:1]\n",
    "        \n",
    "        try: \n",
    "            while distance.euclidean(black_pixels[0], black_pixels[1]) < 30:\n",
    "                print(black_pixels)\n",
    "                black_pixels.pop(0)\n",
    "                print(black_pixels)\n",
    "        except:\n",
    "            pass\n",
    "        return [find_mpt(x, H) for x in black_pixels]\n",
    "    #find middle points\n",
    "    new_black_pixels = []\n",
    "    x = np.linspace(1, num_allpts, num_pts)\n",
    "    for i in x: \n",
    "        j = i \n",
    "        \n",
    "        new_black_pixels.append(black_pixels[int(j-1)])\n",
    "    if distance.euclidean(new_black_pixels[0], new_black_pixels[-1]) < 30: #check if pts too close\n",
    "        new_black_pixels = new_black_pixels[0:1]\n",
    "    elif distance.euclidean(new_black_pixels[-2], new_black_pixels[-1]) < 30: #check if pts too close\n",
    "        new_black_pixels.pop()\n",
    "    try: \n",
    "        print(f\"distance of pt1 and pt2: {distance.euclidean(new_black_pixels[0], new_black_pixels[1])}\")\n",
    "        if distance.euclidean(new_black_pixels[-2], new_black_pixels[-3]) < 30:\n",
    "            new_black_pixels.pop(-2)\n",
    "        while distance.euclidean(new_black_pixels[0], new_black_pixels[1]) < 30:\n",
    "            print(new_black_pixels)\n",
    "            new_black_pixels.pop(0)\n",
    "            print(new_black_pixels)\n",
    "    except:\n",
    "        pass\n",
    "    mpts = [find_mpt(x, H) for x in new_black_pixels]\n",
    "    # print(\"=\"*20)\n",
    "    # print(mpts)\n",
    "    # print(\"=\"*20)\n",
    "    return mpts\n",
    "    # return new_black_pixels"
   ]
  },
  {
   "cell_type": "code",
   "execution_count": null,
   "metadata": {},
   "outputs": [],
   "source": []
  },
  {
   "cell_type": "code",
   "execution_count": 25,
   "metadata": {},
   "outputs": [
    {
     "name": "stderr",
     "output_type": "stream",
     "text": [
      "  0%|          | 31/64887 [00:15<8:53:40,  2.03it/s] \n"
     ]
    },
    {
     "ename": "KeyboardInterrupt",
     "evalue": "",
     "output_type": "error",
     "traceback": [
      "\u001b[0;31m---------------------------------------------------------------------------\u001b[0m",
      "\u001b[0;31mKeyboardInterrupt\u001b[0m                         Traceback (most recent call last)",
      "Cell \u001b[0;32mIn[25], line 26\u001b[0m\n\u001b[1;32m     23\u001b[0m tem_scale \u001b[39m=\u001b[39m cv2\u001b[39m.\u001b[39mresize(tem_rgb, (\u001b[39m480\u001b[39m, \u001b[39m640\u001b[39m))\n\u001b[1;32m     25\u001b[0m \u001b[39m# find match pts and draw them\u001b[39;00m\n\u001b[0;32m---> 26\u001b[0m tem_pts \u001b[39m=\u001b[39m find_tem_pts(tem_scale, \u001b[39m16\u001b[39;49m)\n\u001b[1;32m     27\u001b[0m mpts \u001b[39m=\u001b[39m [find_mpt(x, H) \u001b[39mfor\u001b[39;00m x \u001b[39min\u001b[39;00m tem_pts]\n\u001b[1;32m     28\u001b[0m mpts \u001b[39m=\u001b[39m pt_scale2ori(mpts, data, gt_index)\n",
      "Cell \u001b[0;32mIn[20], line 5\u001b[0m, in \u001b[0;36mfind_tem_pts\u001b[0;34m(tem, num_pts)\u001b[0m\n\u001b[1;32m      3\u001b[0m \u001b[39mfor\u001b[39;00m i \u001b[39min\u001b[39;00m \u001b[39mrange\u001b[39m(\u001b[39m0\u001b[39m, tem\u001b[39m.\u001b[39mshape[\u001b[39m0\u001b[39m]\u001b[39m-\u001b[39m\u001b[39m1\u001b[39m, \u001b[39m2\u001b[39m):\n\u001b[1;32m      4\u001b[0m     \u001b[39mfor\u001b[39;00m j \u001b[39min\u001b[39;00m \u001b[39mrange\u001b[39m(\u001b[39m0\u001b[39m, tem\u001b[39m.\u001b[39mshape[\u001b[39m1\u001b[39m]\u001b[39m-\u001b[39m\u001b[39m1\u001b[39m, \u001b[39m2\u001b[39m):\n\u001b[0;32m----> 5\u001b[0m         \u001b[39mif\u001b[39;00m tem[i][j]\u001b[39m.\u001b[39;49msum() \u001b[39m<\u001b[39;49m \u001b[39m10\u001b[39;49m:\n\u001b[1;32m      6\u001b[0m             black_pixels\u001b[39m.\u001b[39mappend([j, i])\n\u001b[1;32m      7\u001b[0m num_allpts \u001b[39m=\u001b[39m \u001b[39mlen\u001b[39m(black_pixels)\n",
      "\u001b[0;31mKeyboardInterrupt\u001b[0m: "
     ]
    }
   ],
   "source": [
    "#run \n",
    "for js in tqdm(jpath_list):\n",
    "    with open(js, 'r') as f:\n",
    "        data = json.load(f)\n",
    "    im_id = data[\"id\"]\n",
    "    gt_index = find_gt_index(data)\n",
    "    if gt_index == -1:\n",
    "        with open(\"/home/alien_yhl/results/pt_map/no_gt/no_gt_id.txt\", 'a') as f:\n",
    "            f.write('\\n')\n",
    "            f.write(im_id)\n",
    "        continue\n",
    "    else:\n",
    "        H = find_gt_H(data, gt_index)\n",
    "    tem_data = find_gt_template(im_id) ####\n",
    "    tem = tem_data[0]\n",
    "    if tem[0].any() == -1:\n",
    "        with open(\"/home/alien_yhl/results/pt_map/no_gt/not_find_tem.txt\", 'a') as f:\n",
    "            f.write('\\n')\n",
    "            f.write(im_id)\n",
    "        continue\n",
    "    o_data = {}\n",
    "\n",
    "    tem_rgb = cv2.cvtColor(tem, cv2.COLOR_BGR2RGB)\n",
    "    tem_scale = cv2.resize(tem_rgb, (480, 640))\n",
    "\n",
    "    # find match pts and draw them\n",
    "    tem_pts = find_tem_pts(tem_scale, 16)\n",
    "    mpts = [find_mpt(x, H) for x in tem_pts]\n",
    "    mpts = pt_scale2ori(mpts, data, gt_index)\n",
    "    template_pts = [[x[0][0], x[0][1]]for x in mpts]\n",
    "    sample_pts = [[x[1][0], x[1][1]]for x in mpts]\n",
    "    o_data = {\n",
    "        \"image_id\": im_id,\n",
    "        \"template_path\":tem_data[1],\n",
    "        \"template_pts\": template_pts,\n",
    "        \"sample_pts\": sample_pts\n",
    "    }\n",
    "    with open(\"/home/alien_yhl/results/pt_map/results/{}.json\".format(im_id), 'w') as f:\n",
    "        json.dump(o_data, f)\n"
   ]
  },
  {
   "cell_type": "code",
   "execution_count": 9,
   "metadata": {},
   "outputs": [
    {
     "ename": "IndexError",
     "evalue": "list index out of range",
     "output_type": "error",
     "traceback": [
      "\u001b[0;31m---------------------------------------------------------------------------\u001b[0m",
      "\u001b[0;31mIndexError\u001b[0m                                Traceback (most recent call last)",
      "Cell \u001b[0;32mIn[9], line 5\u001b[0m\n\u001b[1;32m      3\u001b[0m get_ipython()\u001b[39m.\u001b[39mrun_line_magic(\u001b[39m'\u001b[39m\u001b[39mconfig\u001b[39m\u001b[39m'\u001b[39m, \u001b[39m\"\u001b[39m\u001b[39mInlineBackend.figure_format = \u001b[39m\u001b[39m'\u001b[39m\u001b[39mretina\u001b[39m\u001b[39m'\u001b[39m\u001b[39m\"\u001b[39m)\n\u001b[1;32m      4\u001b[0m \u001b[39mimport\u001b[39;00m \u001b[39mglob\u001b[39;00m\n\u001b[0;32m----> 5\u001b[0m js \u001b[39m=\u001b[39m glob\u001b[39m.\u001b[39;49mglob(\u001b[39m\"\u001b[39;49m\u001b[39m/data/home/yanghanlong/results/iar_on_rule/cleaned_dataset/6w_warped_sam/2a53e725-066d-434a-b33f-42e68b3e2*.json\u001b[39;49m\u001b[39m\"\u001b[39;49m)[\u001b[39m0\u001b[39;49m]\n\u001b[1;32m      6\u001b[0m \u001b[39m# js = glob.glob(\"/data/home/yanghanlong/results/iar_on_rule/cleaned_dataset/6w_warped_sam/*.json\")[465]\u001b[39;00m\n\u001b[1;32m      7\u001b[0m \u001b[39mprint\u001b[39m(js)\n",
      "\u001b[0;31mIndexError\u001b[0m: list index out of range"
     ]
    }
   ],
   "source": [
    "#trial for single jsonfile\n",
    "%matplotlib inline\n",
    "%config InlineBackend.figure_format = 'retina'\n",
    "import glob\n",
    "js = glob.glob(\"/data/home/yanghanlong/results/iar_on_rule/cleaned_dataset/6w_warped_sam/2a53e725-066d-434a-b33f-42e68b3e271f*.json\")[0]\n",
    "# js = glob.glob(\"/data/home/yanghanlong/results/iar_on_rule/cleaned_dataset/6w_warped_sam/*.json\")[465]\n",
    "print(js)\n",
    "with open(js, 'r') as f:\n",
    "    data = json.load(f)\n",
    "im_id = data[\"id\"]\n",
    "print(im_id)\n",
    "gt_index = find_gt_index(data)\n",
    "if gt_index == -1:\n",
    "    raise ValueError(\"no gt template\")\n",
    "else:\n",
    "    H = find_gt_H(data, gt_index)\n",
    "tem_data = find_gt_template(im_id)\n",
    "tem = tem_data[0]\n",
    "if tem.any() == -1:\n",
    "    raise ValueError(\"not find template\")\n",
    "    \n",
    "sam = glob.glob(\"/data/home/yanghanlong/data/image_retrieval/image/\"+im_id+\".*\")\n",
    "sam = sam[0]\n",
    "sam = cv2.imread(sam)\n",
    "sam_rgb = cv2.cvtColor(sam, cv2.COLOR_BGR2RGB)\n",
    "sam_scale = cv2.resize(sam_rgb, (480, 640))\n",
    "tem_rgb = cv2.cvtColor(tem, cv2.COLOR_BGR2RGB)\n",
    "tem_scale = cv2.resize(tem_rgb, (480, 640))\n",
    "fig, ax = plt.subplots(1,2)\n",
    "ax[0].imshow(tem_rgb)\n",
    "ax[1].imshow(sam_rgb)\n",
    "# ax[0].imshow(tem_scale)\n",
    "# ax[1].imshow(sam_scale)\n",
    "# find match pts and draw them\n",
    "h,w = tem_scale.shape[0], tem_scale.shape[1]\n",
    "\n",
    "mpts = find_tem_pts(tem_scale[0:h//2,0:w//2, :], 4, dxy = [0,0])\n",
    "\n",
    "mpts += find_tem_pts(tem_scale[0:h//2,w//2+20:w, :], 4, dxy = [260,0])\n",
    "\n",
    "mpts += find_tem_pts(tem_scale[h//2+10:h,0:w//2, :], 4, dxy = [0, 330])\n",
    "mpts += find_tem_pts(tem_scale[h//2+10:h,w//2+20:w, :], 4, dxy = [260, 330])\n",
    "mpts = pt_scale2ori(mpts, data, gt_index)\n",
    "print(f\"before sorted: {mpts}\")\n",
    "mpts = sorted(mpts, key=lambda x: (x[0][1], x[0][0]))\n",
    "print(f\"After sorted: {mpts}\")\n",
    "print(f\"{im_id}\")\n",
    "print(f\"totally {len(mpts)} points\")\n",
    "draw_pts(mpts)\n"
   ]
  },
  {
   "cell_type": "code",
   "execution_count": 72,
   "metadata": {},
   "outputs": [
    {
     "name": "stdout",
     "output_type": "stream",
     "text": [
      "[(4, 2), (1, 3), (2, 3), (8, 4), (5, 6), (9, 7), (6, 8), (7, 9), (11, 10), (13, 11), (10, 12), (16, 13), (15, 14), (14, 15), (18, 16), (17, 19)]\n"
     ]
    }
   ],
   "source": [
    "\n",
    "points = [(1, 3), (2, 3), (5, 6), (4, 2), (8, 4), (7, 9), (6, 8), (9, 7), (10, 12), (11, 10), (14, 15), (13, 11), (16, 13), (15, 14), (18, 16), (17, 19)]\n",
    "\n",
    "sorted_points = sorted(points, key=lambda x: (x[1], x[0]))\n",
    "\n",
    "print(sorted_points)"
   ]
  },
  {
   "attachments": {},
   "cell_type": "markdown",
   "metadata": {},
   "source": [
    "H * template pt = sample pt"
   ]
  },
  {
   "cell_type": "code",
   "execution_count": 25,
   "metadata": {},
   "outputs": [
    {
     "name": "stdout",
     "output_type": "stream",
     "text": [
      "(1856, 1188, 3)\n"
     ]
    }
   ],
   "source": [
    "i = cv2.imread(\"/home/alien_yhl/data/image_retrieval/template_image/homework-prod/14822532386499809pic.jpg\")\n",
    "print(i.shape)"
   ]
  },
  {
   "cell_type": "code",
   "execution_count": 11,
   "metadata": {},
   "outputs": [
    {
     "data": {
      "text/plain": [
       "'b'"
      ]
     },
     "execution_count": 11,
     "metadata": {},
     "output_type": "execute_result"
    }
   ],
   "source": [
    "a=list('abcdefg')\n",
    "a[1]"
   ]
  },
  {
   "cell_type": "code",
   "execution_count": 155,
   "metadata": {},
   "outputs": [
    {
     "name": "stdout",
     "output_type": "stream",
     "text": [
      "[[422, 44], [340, 56], [284, 58], [292, 58], [470, 110], [214, 144], [30, 156], [30, 158], [62, 162], [270, 272], [442, 272], [254, 274], [442, 274], [460, 274], [270, 276], [308, 276], [442, 276], [130, 292], [410, 292], [90, 310]]\n"
     ]
    }
   ],
   "source": [
    "x = find_tem_pts(tem_scale,20)\n",
    "print(x)\n"
   ]
  },
  {
   "cell_type": "code",
   "execution_count": null,
   "metadata": {},
   "outputs": [],
   "source": []
  },
  {
   "cell_type": "code",
   "execution_count": 57,
   "metadata": {},
   "outputs": [
    {
     "data": {
      "text/plain": [
       "-1"
      ]
     },
     "execution_count": 57,
     "metadata": {},
     "output_type": "execute_result"
    }
   ],
   "source": [
    "find_gt_index(data)"
   ]
  },
  {
   "cell_type": "code",
   "execution_count": 24,
   "metadata": {},
   "outputs": [
    {
     "name": "stdout",
     "output_type": "stream",
     "text": [
      "[[ 4.60098040e-01 -1.07493439e-03  1.68378239e+01]\n",
      " [-4.67383955e-02  5.32230717e-01  4.55214873e+01]\n",
      " [-6.67739262e-05 -1.04554617e-04  6.61594605e-01]]\n",
      "[253.27066193 313.29141864   1.        ]\n"
     ]
    }
   ],
   "source": [
    "H = np.array(H)\n",
    "print(H)\n",
    "pt1 = [300,300,1]\n",
    "pt1 = np.array(pt1)\n",
    "pt2 = H @ (pt1)\n",
    "print(pt2/pt2[2])"
   ]
  },
  {
   "cell_type": "code",
   "execution_count": 21,
   "metadata": {},
   "outputs": [
    {
     "data": {
      "text/plain": [
       "array([500, 500,   1])"
      ]
     },
     "execution_count": 21,
     "metadata": {},
     "output_type": "execute_result"
    }
   ],
   "source": [
    "pt1 = np.array([198.0, 87.0])\n",
    "pt2 = np.array([239.0, 37.0])\n",
    "\n",
    "\n"
   ]
  }
 ],
 "metadata": {
  "kernelspec": {
   "display_name": "base",
   "language": "python",
   "name": "python3"
  },
  "language_info": {
   "codemirror_mode": {
    "name": "ipython",
    "version": 3
   },
   "file_extension": ".py",
   "mimetype": "text/x-python",
   "name": "python",
   "nbconvert_exporter": "python",
   "pygments_lexer": "ipython3",
   "version": "3.8.16"
  },
  "orig_nbformat": 4,
  "vscode": {
   "interpreter": {
    "hash": "aba01b0fb9480ca2795775a8d9403352445a8480b79ad3e2e2faaddf87c0938d"
   }
  }
 },
 "nbformat": 4,
 "nbformat_minor": 2
}
