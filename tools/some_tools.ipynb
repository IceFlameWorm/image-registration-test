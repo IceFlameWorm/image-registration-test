{
 "cells": [
  {
   "cell_type": "code",
   "execution_count": 3,
   "metadata": {},
   "outputs": [
    {
     "ename": "SyntaxError",
     "evalue": "invalid syntax (4046875936.py, line 41)",
     "output_type": "error",
     "traceback": [
      "\u001b[0;36m  Cell \u001b[0;32mIn[3], line 41\u001b[0;36m\u001b[0m\n\u001b[0;31m    print(data[])\u001b[0m\n\u001b[0m               ^\u001b[0m\n\u001b[0;31mSyntaxError\u001b[0m\u001b[0;31m:\u001b[0m invalid syntax\n"
     ]
    }
   ],
   "source": [
    "#multiprocessing handle the 6w results json file, output fp(ratio < 0.2)\n",
    "import glob\n",
    "import json\n",
    "from tqdm import tqdm\n",
    "from scipy.spatial import distance\n",
    "from multiprocessing import Pool\n",
    "\n",
    "json_list = glob.glob(\"/home/alien_yhl/data/results_6w/\"+\"*_result.json\")\n",
    "\n",
    "print(len(json_list))\n",
    "\n",
    "\n",
    "def job(js):\n",
    "    with open(js, 'r') as f:\n",
    "        data = json.load(f)\n",
    "    alignment_results = data[\"alignment_results\"]\n",
    "    try:\n",
    "        \n",
    "        for i in alignment_results.keys():\n",
    "            sample_mkpts = alignment_results[i][\"matched_features\"][\"sample_mkpts\"]\n",
    "            template_mkpts = alignment_results[i][\"matched_features\"][\"template_mkpts\"]\n",
    "            ratio = alignment_results[i][\"matched_features\"][\"mkpts_ratio2template\"]\n",
    "            isGT = alignment_results[i][\"isGroundTruthTemplate\"]\n",
    "            mkpts_conf = alignment_results[i][\"matched_features\"][\"mkpts_conf\"]\n",
    "            aver_conf = sum(mkpts_conf) / len(mkpts_conf)\n",
    "            conf = alignment_results[i][\"matched_features\"][\"mkpts_conf\"]\n",
    "            dist = 0; weighted_dist = 0;\n",
    "            if len(sample_mkpts) != len(template_mkpts):\n",
    "                print(\"length not same\".format(data[\"id\"]))\n",
    "                \n",
    "            for j in range(len(sample_mkpts)):\n",
    "                \n",
    "                dist += distance.euclidean(sample_mkpts[j], template_mkpts[j])\n",
    "                weighted_dist += distance.euclidean(sample_mkpts[j], template_mkpts[j])*conf[j]\n",
    "                dist = dist / (j+1); weighted_dist = weighted_dist / (j+1);           \n",
    "            return (ratio, dist, isGT, data[\"id\"], weighted_dist, aver_conf) ####MOST IMPORTANT!\n",
    "        \n",
    "    except:\n",
    "        print(data[\"id\"])\n",
    "        return\n",
    "\n",
    "with Pool(8) as p:\n",
    "    rdi = p.map(job, tqdm(json_list))\n",
    "    \n",
    "rdi = list(set(rdi))\n",
    "rdi.remove(None)\n",
    "print(len(rdi))\n",
    "\n",
    "real_rdi = [x for x in rdi if x[2] == 1]\n",
    "fake_rdi = [x for x in rdi if x[2] == 0]"
   ]
  },
  {
   "cell_type": "code",
   "execution_count": 2,
   "metadata": {},
   "outputs": [
    {
     "name": "stdout",
     "output_type": "stream",
     "text": [
      "64714\n",
      "64714\n"
     ]
    }
   ],
   "source": [
    "#output data to txt file\n",
    "all = [x  for x in ... if ...]\n",
    "print(len(all))\n",
    "output_data_list = [\"{}\\t{}\".format(x[3], x[0]) for x in all] #change 1:  for different data output format\n",
    "print(len(output_data_list))\n",
    "with open(\"/home/alien_yhl/data/6w_results.txt\", 'w') as f:# change 2: for diff output path\n",
    "    f.writelines('\\n'.join(output_data_list))"
   ]
  },
  {
   "cell_type": "code",
   "execution_count": 23,
   "metadata": {},
   "outputs": [],
   "source": [
    "#find gt template index in all candidate template\n",
    "import glob\n",
    "import json\n",
    "def find_template_index_withgt(id):\n",
    "    file_path = glob.glob(\"/home/alien_yhl/data/image_retrieval/anno/\"+id+\"*\")\n",
    "    if file_path == [] or len(file_path) > 1:\n",
    "        print(\"Not find file or more than one path: {}\".format(id))\n",
    "        return \n",
    "    with open(file_path[0], 'r') as f:\n",
    "        data = json.load(f)\n",
    "    gt_name = data[\"gt_template_image\"]\n",
    "    for i, candidate in enumerate(data[\"candidate_template_images\"]):\n",
    "        if gt_name in candidate:\n",
    "            return i\n",
    "        else:\n",
    "            continue\n",
    "    print(\"Not find candidate in: {}\".format(id))\n",
    "    return\n"
   ]
  },
  {
   "cell_type": "code",
   "execution_count": 24,
   "metadata": {},
   "outputs": [
    {
     "name": "stdout",
     "output_type": "stream",
     "text": [
      "42411\n"
     ]
    }
   ],
   "source": [
    "output_withgt=[]\n",
    "for data in data_list:\n",
    "    if data[2] == \"1\":\n",
    "        output_withgt.append(\"{}\\t{}\\t{}\\n\".format(data[3], find_template_index_withgt(data[3]), data[0]))\n",
    "    else:\n",
    "        continue\n",
    "print(len(output_withgt))"
   ]
  },
  {
   "cell_type": "code",
   "execution_count": 19,
   "metadata": {},
   "outputs": [
    {
     "name": "stdout",
     "output_type": "stream",
     "text": [
      "68129\n",
      "{'image_id': 'bbfc6b5f-56dc-4083-8836-aab24e9c3de0', 'candidate_template_images': ['homework-prod/14669194792612084pic.jpg', 'homework-prod/14670841113489782pic.jpg'], 'gt_template_image': 'homework-prod/14670841113489782pic.jpg'}\n"
     ]
    },
    {
     "data": {
      "text/plain": [
       "1"
      ]
     },
     "execution_count": 19,
     "metadata": {},
     "output_type": "execute_result"
    }
   ],
   "source": [
    "file_path = glob.glob(\"/home/alien_yhl/data/image_retrieval/anno/\"+\"*\")\n",
    "print(len(file_path))\n",
    "with open(file_path[0], 'r') as f:\n",
    "    data = json.load(f)\n",
    "print(data)\n",
    "find_template_index_withgt(\"bbfc6b5f-56dc-4083-8836-aab24e9c3de0\")"
   ]
  },
  {
   "cell_type": "code",
   "execution_count": 30,
   "metadata": {},
   "outputs": [],
   "source": [
    "dt = ['000cf5a4-ca80-48db-aee1-85bfdda41bfb', '00b4e52d-546b-49ce-8302-44d4e7309443', '03f8c850-58b4-4e2e-8ca2-899796875772', '043244db-0511-4239-aa35-ad9c451341f2', '05697c30-c461-41bc-aa5b-0919c1e6a0b2', '077b8225-1c82-433f-a572-984e9e2e33d2', '08c5509a-70ee-492e-b859-0ff4655ac3a3', '0923c472-2565-4554-85de-9f0940679551', '0b7287a0-e052-4f91-835c-3f287f755bd4', '0bb91e63-b263-4bcb-bef6-06a0da2326ef', '0d334ff0-94ca-44a5-a9f3-c6b365cc222d', '0f33e423-c3cf-46d6-a8a3-60d510e04f6c', '10441dc4-5f64-4b37-8fd5-5ef8db5a6736', '108a4c6b-ea1b-4dfe-97dd-c8b9e76b1df2', '169dbac0-7d56-4bcd-ab26-5730b441a6f1', '16d37240-9104-47a5-82d3-67970fff3300', '188abe36-3b23-47e9-9031-c37cab243a71', '18cc10ca-1238-4d6a-919d-8878417db8da', '19117b5d-94b5-4802-8a11-02aa0144985a', '1c8d6394-6dc3-4d08-9952-d34b318bfb57', '1ccd5997-6875-44ea-b953-541ef1e0c3af', '1d445a60-4eeb-4b3a-a2e7-82a0d9ef505b', '1e3efd47-5098-45a9-8f3e-a2acb1566e53', '20794b4a-0656-4661-8f58-98cf590c4d6c', '209b298c-cbd9-4096-a899-ad41e202cebc', '256a2402-f2ce-4510-a816-266ea6b730bd', '270f2a73-759e-4fca-b2bb-0a8542e58cac', '2731c438-dab3-4f54-b773-5207dfb96065', '28459982-a2bf-47f5-acd4-67ff0aa18fe5', '2a438e0c-ce96-438a-987e-427a5aa558d7', '2a80a45f-8b13-4774-9b13-4d2d84f3aa40', '2bbc34d3-f6b0-429d-9341-d9ea3fc4ee56', '2d7397d3-5a8d-4df7-baa8-13ecf8308a29', '2e4dbaa5-4110-4ed0-b82b-1936269c81ed', '3029724a-396b-4436-bbbb-04d380cf7888', '30719c51-25b7-44a0-8ec7-768d1c54b6dc', '31cfac0f-33e7-409c-a8e5-122760d5b3d0', '33f029cf-48a6-4cd8-bc8c-6a6d36ca3235', '34be76af-fd12-4a03-843f-3505bb445c26', '3655d142-651b-470d-a6b1-3bc61f000502', '36826d52-0f22-4565-9514-bc6cf2ec91cb', '3a429d94-3126-4966-a483-38695b7c41fa', '3a467bd5-cd93-4205-9624-0cf67571ec7b', '3a79cfd0-f8e6-4a5f-8b83-f7c9ee931531', '3b022cb7-5396-4faa-8843-14c151fc9564', '3b965aa1-ac30-47dd-97f1-df6ff35b2ed9', '3ba73d47-0c2a-4e98-a091-4cc67d4ee418', '3c96d955-cd83-405f-babd-ca5ee2ed4b7a', '415e1043-7003-4dc2-830b-e7a273ab4d3a', '4449f253-2d37-455c-873b-a3b37f8e6a12', '4674cac1-4958-498d-a58c-d0ac9ccffe08', '47b9066d-9081-496c-92a8-1f483c916b51', '49d494ac-0330-4bfb-a68a-3172da6e1082', '4b701c7e-72e1-4bc9-90a7-514f72f65543', '4c9b3e4e-715f-489b-aaaf-e3e3a84c815c', '50d95047-12f1-4aa2-bf93-e5cdcb188713', '51e32d97-ba67-4118-95bf-14f39475e756', '53da72d7-3f31-45ca-ab10-80d80c7c0ccb', '54db4c50-031a-4a78-b18e-d185d01b9015', '56187e47-8bb7-4e70-a932-16c324847ed4', '566650dc-5475-41aa-8476-608893381e20', '58d49c59-239d-4b91-919a-9cb9b39afb12', '5926c22c-4bde-4157-8c98-d625f71b9f47', '59d41f1d-6f9e-4ece-a1fb-a0e706436ec0', '59e62eb3-0dd3-4b42-a166-1bbdebf23a40', '5a9fcaf7-df7e-412c-9e9e-9492de210d2d', '5ac2ec69-a58f-4d50-9f54-6e95f98e16a1', '5cf0cfbb-9fee-4254-be97-e20ddb6dc6e4', '5d75ab19-7f01-4234-8c73-ec67c6ec8dfd', '5e501573-3247-4fba-8c9e-201fe63869af', '5f89c53b-00bb-4ccc-bc46-23850789c288', '60d27b43-b0a7-4474-acdb-b27389d736ac', '6150b446-8110-4071-8b13-0efc04dc05e6', '63acc074-63da-4f5b-a9f4-67e30dc52cb5', '63d4d8af-d157-4755-b9bb-367b5328a3be', '663913ab-be72-4ada-879a-64e77a18f560', '6758321e-a5c9-4aed-bdf6-8e3ae144aeed', '6ab44a2d-20f4-4964-a143-828dd2b140be', '6e4f6e32-2d50-4b73-bf1b-3cf891a61626', '6e56e39b-8fb0-44bf-8514-465f0f0723f3', '6fe7e11f-bfed-4267-a278-f6e932a4946d', '724bf607-99f9-4843-abca-6e392b4b841d', '72c9b34c-5f3f-42a4-830f-7858a711f2bc', '756c2812-e05b-422f-9b66-f45833949237', '799c60c9-3e20-4098-b7e0-7ad7b9ea543f', '7b199fdc-26bd-4a91-8226-1e6370a44777', 'fffb76ac-d998-429c-93d9-7938c91d5500', 'e4d8d903-f7da-40e0-aa54-0d9f14a8e720', 'f3504bb0-a287-40c2-acc7-67e95fb3708c', 'f3d72113-613a-4af0-a795-3b4c760f8a0f', '86175e95-5240-44c8-8d90-5d2df66cce2e', 'c9aa0a22-b192-4931-9199-f26afe0a84ae', 'e6a96295-e2b8-46df-a6bb-8750d919e955', 'f56b3834-16b6-4487-91f6-d3cf7fec75c4', 'f60a8d32-adab-4a1f-a0f3-eb122b938e93', 'f6217aa6-b819-4326-94db-a620e78cf423', 'e8ca3036-cb4d-4480-abac-035d731cbeaf', 'e8d7a92c-1e01-4770-9876-ececfae04baa', 'f74e94f6-6a7c-47a0-96c0-e9923ec6365c', 'f83d6880-0997-4bf5-944d-e68e36b3f0e5', 'ebe49ce9-cba0-4f2d-8232-75e89bb29b77', 'f99a3663-7c4a-4820-af54-e762dfb37e4f', 'fa9e2f44-ac9d-4663-ad0d-4394a0d3da87', 'eda19fc6-3bb6-4584-9957-31a26df31c97', 'fb5fbdca-e7c6-4f5c-a8f6-45210a500ea0', 'fb973906-b0ed-431d-be8b-88b1f30e7ebc', 'eed754ae-f239-47e2-81eb-a87328f5984e', 'ef334539-64ea-41b3-93d8-ef8a16d2519e', 'ef356272-5c52-43cb-88ea-272433880549', 'ef37fcd9-eb04-48ba-93b8-06380d8cf837', 'fd1f3e1a-ee44-405a-9fe4-079253d44326', 'efba816c-2fed-4e3d-b4d9-a19d170220fe', 'fd3c2135-9696-402b-86ca-970b6a2ad422', 'fd86e20e-defc-4e91-9025-996b1faba7a2', 'fd9ea1cb-0f54-4c34-b15a-14f3e866e03a', 'f1a0394f-76e8-4e7f-b2e6-604401edf58e', 'f1d44f7f-67cb-48d2-9fba-513a18573eed', 'ff54faf3-f0bf-4f1a-a88f-a20d597b783a', 'ff86844b-4631-4b36-86f3-950594fa4017', 'cb3c624c-4f03-453a-a1e6-aceff05891ef', 'd9ee503e-3f06-40b4-84d8-1382bc28547c', 'db009269-0b20-4b04-9c19-8304705cbd94', 'db432c85-8741-4f02-8c8a-ab8bc98ba0c9', 'dbd00a2b-e81b-4a93-aeef-6a0922aaaff0', 'a1c0fc21-c47b-4980-9dea-6e5d869eea11', '9460c3a3-acd0-475b-b941-7abf3a3018bd', 'a1d0e82c-3c7c-41e5-a8a4-1d8d72895b0e', '9496b4bc-3d0a-4c42-ac5a-f789db765a38', '877d5113-27b6-4405-8273-3b6bd328cba6', 'bdfa1e9f-871f-481e-820a-d0db45ca4ec4', 'be4b6cb9-7465-470a-a575-b534c8a7c1dd', 'b182ffe3-14dc-4a2a-81a1-b1b052038a49', 'b2551bc7-7900-4ca5-aba5-5bbeef9c754b', 'b2e18ecd-82dd-4486-8024-6f158497f56a', 'b46964c2-a18b-45c0-941e-2ade6db4a862', 'b486c9e4-b4c1-44aa-bb7d-8528e818da53', 'b5267d95-34a1-4415-b701-3f120e663a1c', 'c387df07-9184-468b-a1f3-9ef3459579fc', 'c38aee93-7a82-4d70-8c75-672684d3ab93', 'b66c30e6-a8f5-4c13-af40-fbaa955abd65', 'b6f8df9c-bb1f-4b32-b242-032869a70fc0', 'c5cb0680-cbec-47b2-af9d-978e26e32631', 'b9deb459-c1c7-407a-a13f-c158b25bb0b4', 'c8fd0ab3-45fd-4cb4-a51b-4e784a1cf817', '95a8a834-3ff4-4efb-ab35-522522278b29', '961c2f25-dd9a-444c-9efa-c89074f9b15a', '96340b5d-d766-486b-83e2-4a321faa3e93', '9733607c-a4aa-49b6-91b4-1d57ca4a8492', '980401cc-5e32-47f8-b97e-afe49b289e47', 'a5929400-baab-433b-822a-6f9953a3b9ca', '99dd8347-6e82-4729-b9e0-71bcbe1c60e0', '99e70dc6-4860-4c48-a590-9b9b4ba539e7', '99f3c826-ab93-46c6-bed2-9f60f64fb839', '9b4f0708-3366-4fe3-a3cd-145d65c30952', 'a8e713b1-5f59-4587-9a64-d1f87dc234dd', 'a9673c55-3870-418c-8dc3-9ddc19badb94', '9c553108-2500-436f-9428-9216d6272e63', 'aa1325c7-2a4e-4a42-ad3f-56a1ab8f36c3', 'aadcbb8b-b23c-42c1-bc5c-d59d19f1cc51', 'ac99717a-383d-404d-8358-1f377e455a78', '9f56ce97-06b5-4fa1-8018-a7c739567127', 'a01dd73e-ffda-41a8-93ae-00f448950a9d', 'a0b37fc5-07c9-4cb9-8818-2cb77e22e060', 'a0d05b03-9376-446d-a8df-64a6d52ae953', '81ebb425-4ba2-446f-98e9-831dfd17c395', '826cf7e7-68f7-4889-9f61-992431010db8', '8ad5d214-1c34-4323-8eef-924366d0b2d5', '8b5dba2d-39a2-49ae-add7-d3464226031c', '8e484d79-2029-4e41-91ef-7eb4fafc2812', '8efb0fc7-dc4e-42ff-8f31-881ff7b8b5ca', '92033ead-1e24-4ebb-800a-dcc347da80de', '925f0f78-bcfa-4398-8a8f-b09589d8b98b', '9369bd9b-0c93-4dc8-8394-c36af616b1a5']\n",
    "dt = [\"{}\\t{}\\t{}\".format(x, -1, 0) for x in dt]\n",
    "with open(\"/home/alien_yhl/data/6w_results_part3.txt\", 'w') as f:\n",
    "    f.writelines('\\n'.join(dt))"
   ]
  },
  {
   "cell_type": "code",
   "execution_count": 39,
   "metadata": {},
   "outputs": [
    {
     "name": "stdout",
     "output_type": "stream",
     "text": [
      "140339195511296\n",
      "140339195512576\n",
      "['f']\n",
      "['a', 'b', 'c', 'd', 'e', 'f', 'g', 'f']\n"
     ]
    }
   ],
   "source": [
    "a = list(\"abcdefgf\")\n",
    "print(id(a))\n",
    "b = list(a)\n",
    "print(id(b))\n",
    "for x in list(set(a)):\n",
    "    b.remove(x)\n",
    "print(b)\n",
    "print(a)"
   ]
  },
  {
   "cell_type": "code",
   "execution_count": 42,
   "metadata": {},
   "outputs": [],
   "source": [
    "#output repeated_gt_in_candidate.txt\n",
    "y = ['0b9f24d5-4d69-4129-8b35-09626e22ab60', '14cead4d-7424-4c9b-bfa8-b909d8c79cc1', '1e7c41c8-d453-4187-a59a-8cd9bc812898', '225e5659-f7c5-464f-9e7e-26d5333a03f4', '25d77a1b-1578-4278-be7c-e99ecedfc6e2', '2d4a9f31-2911-4401-8461-68f54dd22aa0', '2f30556f-3785-4630-af1c-6edc02a11f23', '3d0c5663-a285-4b37-a2e9-59604872e51c', '3e7e9d2c-a2e6-4b91-a7c3-c130c4190e8a', '3ff51caf-83ac-452e-8fe7-c266060282bf', '495d4441-1f9c-4d1a-adc9-9ffb19ea9a30', '5592da9d-4588-4fd7-9254-6bf5be2c9e53', '5a84fb2b-f963-4fed-a5ac-3afd74cb3122', '5abaab44-b68d-4b72-8a1f-f709d2477fcc', '626a73dd-bc10-43e3-87a7-018bc3bc56c8', '656a6db6-4f52-489a-aa4c-0b51c4c953a2', '66d6d06e-9676-402a-8778-2c4f0be3de65', '6aa62bcc-4812-41b1-b7fa-c44764d7db70', '6bd0c998-f5e3-4ecb-8311-42ca945b25b6', '6f45a131-2523-4f3c-841b-784beac49b12', '725467b3-747f-4f67-9c24-7389442ceb51', '73831ef0-c988-47cd-a269-2bacd1c7e219', 'e562d69a-4004-4407-ba57-65a1f1c46dd2', 'fce66672-f5d0-41e2-80e7-8546efa0c2aa', 'd811f16e-2959-4343-a018-50084596bdea', 'ca2fb4b2-1292-4271-bba9-1400426f8aa1', 'db6917c6-8af7-45da-861d-1ae542ee454a', '81398a91-aef2-45d0-aad7-4215641ea3ee', 'af9fc048-77bb-44d9-85e3-645805514ae5', 'b31f3027-27ec-4ff0-bacb-652d2832a0cf', 'c3d9bda8-4897-4ab9-9c7a-1eae8d6f9dec', 'b7c7aa72-4943-4a4e-8c54-78edb59957f6', 'c5ca175c-046c-47ac-b7c3-6804a3802566', 'c6c68d67-b4ac-4fda-b111-313094bf4214', '9858b4d3-d917-416e-bf0b-5d8b285af0e0', '98c4811e-00b7-405d-9f29-9b0d4be9bbbb', 'a67c980f-26ef-497c-815f-7806306881fe', '832f16bf-1484-4e89-a36f-babc04f754f2', '8f3e5987-c31c-43f4-9e82-f51d8c7104f8', '917e0736-8b49-42f4-83ba-3be5a637f965', '91e1342f-ed9f-4ce1-900d-c87a0f433b8e', '9368ab6a-84db-44df-bdaf-45b96545b331']\n",
    "with open(\"/home/alien_yhl/data/repeated_gt_in_candidate.txt\", 'w') as f:\n",
    "    f.writelines('\\n'.join(y))"
   ]
  },
  {
   "cell_type": "code",
   "execution_count": 44,
   "metadata": {},
   "outputs": [
    {
     "name": "stdout",
     "output_type": "stream",
     "text": [
      "68129\n"
     ]
    }
   ],
   "source": [
    "with open(\"/home/alien_yhl/data/6w_results_v2.txt\", 'r') as f:\n",
    "    dt = f.readlines()\n",
    "for x in y:\n",
    "    for i in dt:\n",
    "        if i.startswith(x+\"\\t1\"):\n",
    "            dt.remove(i)\n",
    "print(len(dt))\n",
    "with open(\"/home/alien_yhl/data/6w_results_v3.txt\", 'w') as f:\n",
    "    f.writelines(dt)"
   ]
  },
  {
   "cell_type": "code",
   "execution_count": 1,
   "metadata": {},
   "outputs": [
    {
     "name": "stdout",
     "output_type": "stream",
     "text": [
      "['0.5924812030075188\\t0.03322572610112129\\t0\\t35f2860c-aba1-427c-b417-c1c35fe0f381\\t0.025624437954496697\\n', '0.681640625\\t0.045526896252005906\\t1\\t171a378b-9944-4148-808c-deb40b8a4239\\t0.043842834253859785\\n', '0.646484375\\t0.033454566410677504\\t1\\t14beb5d3-ddc4-46e3-a6c0-58a18a5eda5c\\t0.032080430743402416\\n']\n"
     ]
    }
   ],
   "source": [
    "#output 更激进的拒识 \"imageID DistanceScore\"\n",
    "with open(\"/home/alien_yhl/data/73874_results_detail.txt\", 'r') as f:\n",
    "    d_list = f.readlines()\n",
    "print(d_list[0:3])"
   ]
  },
  {
   "cell_type": "code",
   "execution_count": 6,
   "metadata": {},
   "outputs": [
    {
     "name": "stdout",
     "output_type": "stream",
     "text": [
      "73874\n",
      "42411\n",
      "1457\n",
      "['9a5363a8-1e29-45c3-adab-1e8a921b89b0\\t0.6589484904674696', '34d10ab7-5925-48ef-b349-a51a9c7724f1\\t3.7195425524018275', '05680be4-6b50-4d1e-b896-7f78389e50a2\\t1.0203100832634615']\n"
     ]
    }
   ],
   "source": [
    "real_rdi = [x.strip().split('\\t') for x in d_list]\n",
    "print(len(real_rdi))\n",
    "real_rdi = [x for x in real_rdi if x[2] == \"1\"]\n",
    "print(len(real_rdi))\n",
    "real_rdi_dist_1 = [x for x in real_rdi if float(x[1]) > 0.5]\n",
    "print(len(real_rdi_dist_1))\n",
    "w = [\"{}\\t{}\".format(x[3], x[1]) for x in real_rdi_dist_1]\n",
    "print(w[0:3])\n",
    "with open(\"/home/alien_yhl/mean_distance_larger_0.5.txt\", 'w') as f:\n",
    "    f.writelines('\\n'.join(w))\n",
    "\n"
   ]
  },
  {
   "cell_type": "code",
   "execution_count": 2,
   "metadata": {},
   "outputs": [
    {
     "name": "stderr",
     "output_type": "stream",
     "text": [
      "100%|██████████| 68129/68129 [00:47<00:00, 1445.27it/s] \n"
     ]
    }
   ],
   "source": [
    "# make customized annotations(mainly change candidate templates)\n",
    "import glob\n",
    "import json\n",
    "import random\n",
    "from tqdm import tqdm\n",
    "\n",
    "old_json_path = glob.glob(\"/home/alien_yhl/data/image_retrieval/anno/*.json\")\n",
    "all_templates = set()\n",
    "old_json_list = {}\n",
    "for old_json in tqdm(old_json_path):\n",
    "    with open(old_json, 'r') as f:\n",
    "        old_json = json.load(f)\n",
    "        old_json_list[old_json[\"image_id\"]] = old_json\n",
    "    for temp in old_json[\"candidate_template_images\"]:\n",
    "        all_templates.add(temp)\n"
   ]
  },
  {
   "cell_type": "code",
   "execution_count": 6,
   "metadata": {},
   "outputs": [
    {
     "name": "stderr",
     "output_type": "stream",
     "text": [
      "100%|██████████| 68129/68129 [00:04<00:00, 13769.83it/s]"
     ]
    },
    {
     "name": "stdout",
     "output_type": "stream",
     "text": [
      "Done!\n",
      "('bbfc6b5f-56dc-4083-8836-aab24e9c3de0', {'image_id': 'bbfc6b5f-56dc-4083-8836-aab24e9c3de0', 'candidate_template_images': ['homework-prod/14669194792612084pic.jpg', 'homework-prod/14670841113489782pic.jpg', 'homework-pdf/production/book_chapter_preview/3_2022_10_29_15_25_36_42f3df.png', 'homework-prod/14670837326575082pic.jpg', 'homework-prod/14942225089527626pic.jpg', 'homework-prod/14821536892635007pic.jpg', 'homework-prod/14748543821705679pic.jpg', 'homework-prod/18535007681503213pic.jpg', 'homework-pdf/production/book_chapter_preview/4_2022_11_11_14_37_20_8541c7.png', 'homework-prod/14942475189644426pic.jpg'], 'gt_template_image': 'homework-prod/14670841113489782pic.jpg'})\n"
     ]
    },
    {
     "name": "stderr",
     "output_type": "stream",
     "text": [
      "\n"
     ]
    }
   ],
   "source": [
    "new_json_list = dict(old_json_list)\n",
    "for new_json in tqdm(old_json_list.keys()):\n",
    "    new_json = old_json_list[new_json]\n",
    "    new_json[\"candidate_template_images\"] += random.sample(all_templates, 4)\n",
    "    new_json_list[new_json[\"image_id\"]] = new_json\n",
    "print(\"Done!\")\n",
    "print(list(new_json_list.items())[0])"
   ]
  },
  {
   "cell_type": "code",
   "execution_count": 14,
   "metadata": {},
   "outputs": [
    {
     "name": "stderr",
     "output_type": "stream",
     "text": [
      "100%|██████████| 68129/68129 [00:08<00:00, 7898.99it/s]\n"
     ]
    }
   ],
   "source": [
    "from os import path as osp\n",
    "import os\n",
    "root_dir = osp.join(\"/home/alien_yhl/workspace/img_align/data/image_retrieval_6w_customized\", \"anno2\")\n",
    "os.makedirs(root_dir, exist_ok=True)\n",
    "for new_json in tqdm(new_json_list):\n",
    "    with open(osp.join(root_dir, new_json+ \".json\"), 'w') as f:\n",
    "        json.dump(new_json_list[new_json], f)"
   ]
  },
  {
   "cell_type": "code",
   "execution_count": 25,
   "metadata": {},
   "outputs": [
    {
     "data": {
      "text/plain": [
       "'page_1'"
      ]
     },
     "execution_count": 25,
     "metadata": {},
     "output_type": "execute_result"
    }
   ],
   "source": [
    "\n",
    "a = \"/home/alien_yhl/workspace/img_align/logs/math_fn_ratio0.1/3e675f4d-2f75-4448-8d67-000dc553fd4d/page_1/matches.jpg\"\n",
    "osp.basename(osp.dirname(a))"
   ]
  },
  {
   "cell_type": "code",
   "execution_count": 6,
   "metadata": {},
   "outputs": [
    {
     "name": "stdout",
     "output_type": "stream",
     "text": [
      "['1e820033-d6e5-4e87-8512-451a6fd9b773', '383d9cfa-51ef-4e96-93c7-8f88579bbe4c', 'fc73bbd7-0bd8-4e01-af39-65c0ba4c12d8', 'a5e58f27-7bc3-4e26-88ad-2d48dd5706e1', '39b267dd-6897-434e-b3ce-370f070de231']\n"
     ]
    }
   ],
   "source": [
    "import glob\n",
    "import os\n",
    "im_list = glob.glob(\"/data/home/yanghanlong/data/image_retrieval/image/*.*\")\n",
    "im_list = [os.path.basename(x)[:-4] for x in im_list]\n",
    "print(im_list[0:5])\n",
    "with open(\"/data/home/yanghanlong/workspace/image-alignment-rejection/test/all_6w_id.txt\", 'w') as f:\n",
    "    f.writelines('\\n'.join(im_list))"
   ]
  },
  {
   "cell_type": "code",
   "execution_count": 7,
   "metadata": {},
   "outputs": [
    {
     "name": "stdout",
     "output_type": "stream",
     "text": [
      "Totally 77573 images.\n"
     ]
    },
    {
     "name": "stderr",
     "output_type": "stream",
     "text": [
      "100%|██████████| 77573/77573 [08:12<00:00, 157.64it/s]"
     ]
    },
    {
     "name": "stdout",
     "output_type": "stream",
     "text": [
      "Done!\n"
     ]
    },
    {
     "name": "stderr",
     "output_type": "stream",
     "text": [
      "\n"
     ]
    }
   ],
   "source": [
    "import shutil\n",
    "from pathlib import Path\n",
    "import glob\n",
    "import os\n",
    "from tqdm import tqdm\n",
    "def extract_matches_rename(i_path = \"all_6w_get_wraped_sam\",\n",
    "                            o_path = None):\n",
    "    if o_path == None:\n",
    "        o_path = i_path+\"_matches\"\n",
    "    input_path = \"/data/home/yanghanlong/results/iar_on_rule/\"+i_path+\"/**/warped*.jpg\"\n",
    "    match_list = glob.glob(input_path, recursive=True)\n",
    "    print(\"Totally {} images.\".format(len(match_list)))\n",
    "    if len(match_list) == 0:\n",
    "        print(\"no images to handle!\")\n",
    "        return\n",
    "    for ma in tqdm(match_list):\n",
    "        id = Path(ma).parents[1].name\n",
    "        name = id+'.jpg'  ##image name\n",
    "        output_dir = os.path.join(\"/data/home/yanghanlong/results/iar_on_rule/\", o_path)\n",
    "        os.makedirs(output_dir, exist_ok=True)\n",
    "        shutil.copyfile(ma, os.path.join(output_dir, name))\n",
    "    print(\"Done!\")\n",
    "extract_matches_rename(i_path=\"all_6w_get_wraped_sam\", o_path=\"6w_warped_sam_by_name\")"
   ]
  },
  {
   "cell_type": "code",
   "execution_count": null,
   "metadata": {},
   "outputs": [],
   "source": []
  }
 ],
 "metadata": {
  "kernelspec": {
   "display_name": "base",
   "language": "python",
   "name": "python3"
  },
  "language_info": {
   "codemirror_mode": {
    "name": "ipython",
    "version": 3
   },
   "file_extension": ".py",
   "mimetype": "text/x-python",
   "name": "python",
   "nbconvert_exporter": "python",
   "pygments_lexer": "ipython3",
   "version": "3.8.16"
  },
  "orig_nbformat": 4,
  "vscode": {
   "interpreter": {
    "hash": "f8e6479fc8617445fb29e899636d8195bd84b89c2b3672db124c6479c10934b7"
   }
  }
 },
 "nbformat": 4,
 "nbformat_minor": 2
}
