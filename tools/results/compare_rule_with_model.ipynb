{
 "cells": [
  {
   "cell_type": "code",
   "execution_count": 1,
   "metadata": {},
   "outputs": [],
   "source": [
    "import re\n",
    "import shutil\n",
    "from pathlib import Path\n",
    "import glob\n",
    "import json\n",
    "import os\n",
    "from tqdm import tqdm"
   ]
  },
  {
   "cell_type": "code",
   "execution_count": 2,
   "metadata": {},
   "outputs": [],
   "source": [
    "def read_line(line):\n",
    "    image_id, template_path, pred = re.search(\"image name:(.*).*template_path: (.*).*target:.*predicted:.*(0|1)\", line).groups()\n",
    "    return image_id.strip(), template_path.strip(), pred.strip()\n",
    "\n",
    "def check_sum(my_dict):\n",
    "    k = 0\n",
    "    for i in my_dict:\n",
    "        k += len(my_dict[i].keys())\n",
    "    return k\n",
    "                 "
   ]
  },
  {
   "cell_type": "code",
   "execution_count": 9,
   "metadata": {},
   "outputs": [
    {
     "data": {
      "text/plain": [
       "('6369e182-af80-4cbe-85d2-7bd4547a1653', '15364270390863969pic.jpg', '1')"
      ]
     },
     "execution_count": 9,
     "metadata": {},
     "output_type": "execute_result"
    }
   ],
   "source": [
    "read_line(\"image name:6369e182-af80-4cbe-85d2-7bd4547a1653\ttemplate_path: 15364270390863969pic.jpg target: 1 predicted: 1\")"
   ]
  },
  {
   "cell_type": "code",
   "execution_count": 3,
   "metadata": {},
   "outputs": [],
   "source": [
    "##rule\n",
    "rule_results = {}\n",
    "with open(\"/data/home/yanghanlong/all_results_rule.txt\", 'r') as f:\n",
    "    rule_data = f.readlines()\n",
    "    for d in rule_data:\n",
    "        image_id, template_path, pred = read_line(d)\n",
    "        if image_id not in rule_results.keys():\n",
    "            rule_results[image_id] = {}\n",
    "        rule_results[image_id][template_path] = pred"
   ]
  },
  {
   "cell_type": "code",
   "execution_count": 4,
   "metadata": {},
   "outputs": [
    {
     "data": {
      "text/plain": [
       "5553"
      ]
     },
     "execution_count": 4,
     "metadata": {},
     "output_type": "execute_result"
    }
   ],
   "source": [
    "check_sum(rule_results)"
   ]
  },
  {
   "cell_type": "code",
   "execution_count": 5,
   "metadata": {},
   "outputs": [],
   "source": [
    "##model\n",
    "model_results = {}\n",
    "with open(\"/data/home/yanghanlong/all_results_model.txt\", 'r') as f:\n",
    "    model_data = f.readlines()\n",
    "    for d in model_data:\n",
    "        image_id, template_path, pred = read_line(d)\n",
    "        if image_id not in model_results.keys():\n",
    "            model_results[image_id] = {}\n",
    "        model_results[image_id][template_path] = pred"
   ]
  },
  {
   "cell_type": "code",
   "execution_count": 6,
   "metadata": {},
   "outputs": [],
   "source": [
    "##diff\n",
    "diff = []\n",
    "for i in model_results:\n",
    "    for j in model_results[i]:\n",
    "        if model_results[i][j] == '1' and rule_results[i][j] == '1':\n",
    "            # print(i,j)\n",
    "            diff.append((i,j))"
   ]
  },
  {
   "cell_type": "code",
   "execution_count": 33,
   "metadata": {},
   "outputs": [
    {
     "data": {
      "text/plain": [
       "0.9033745159505808"
      ]
     },
     "execution_count": 33,
     "metadata": {},
     "output_type": "execute_result"
    }
   ],
   "source": [
    "4899/(524+4899)"
   ]
  },
  {
   "cell_type": "code",
   "execution_count": 7,
   "metadata": {},
   "outputs": [],
   "source": [
    "##extract blended.jpg into one folder according to image id and template path\n",
    "def extract_jpg(image_id,tem_path, save_dir):\n",
    "    ##get template index\n",
    "    with open(f\"/data/home/yanghanlong/data/image_retrieval_for_eval_ia/anno/{image_id}.json\", 'r') as f:\n",
    "        candidates = json.load(f)[\"candidate_template_images\"]\n",
    "    tem_index = candidates.index(tem_path)\n",
    "    ##find blended.jpg\n",
    "    blended = glob.glob(f\"/data/home/yanghanlong/results/image_align/image_retrieval_for_eval_ia/{image_id}/page_{tem_index}*/blended.*\")\n",
    "    matches = glob.glob(f\"/data/home/yanghanlong/results/image_align/image_retrieval_for_eval_ia/{image_id}/page_{tem_index}*/matches.*\")\n",
    "    assert len(blended) != 0\n",
    "    blended = blended[0]; matches = matches[0]\n",
    "    ##copy to save_dir\n",
    "    tem_name = Path(tem_path).stem\n",
    "    save_path = Path(save_dir).joinpath(f\"{image_id}_{tem_name}\")\n",
    "    os.makedirs(save_path, exist_ok=True)\n",
    "    shutil.copy(blended, save_path)\n",
    "    shutil.copy(matches, save_path)\n"
   ]
  },
  {
   "cell_type": "code",
   "execution_count": 8,
   "metadata": {},
   "outputs": [
    {
     "name": "stderr",
     "output_type": "stream",
     "text": [
      "100%|██████████| 4899/4899 [00:14<00:00, 331.96it/s]\n"
     ]
    }
   ],
   "source": [
    "for i,j in tqdm(diff):\n",
    "    extract_jpg(i, j, \"/data/home/yanghanlong/results/compare_rule_with_model/all_received\")"
   ]
  },
  {
   "cell_type": "code",
   "execution_count": null,
   "metadata": {},
   "outputs": [],
   "source": []
  }
 ],
 "metadata": {
  "kernelspec": {
   "display_name": "base",
   "language": "python",
   "name": "python3"
  },
  "language_info": {
   "codemirror_mode": {
    "name": "ipython",
    "version": 3
   },
   "file_extension": ".py",
   "mimetype": "text/x-python",
   "name": "python",
   "nbconvert_exporter": "python",
   "pygments_lexer": "ipython3",
   "version": "3.8.16"
  },
  "orig_nbformat": 4
 },
 "nbformat": 4,
 "nbformat_minor": 2
}
