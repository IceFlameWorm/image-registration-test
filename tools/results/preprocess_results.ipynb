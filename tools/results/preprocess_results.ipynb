{
 "cells": [
  {
   "cell_type": "code",
   "execution_count": 1,
   "metadata": {},
   "outputs": [],
   "source": [
    "#separate all samples by subject\n",
    "import pandas as pd"
   ]
  },
  {
   "cell_type": "code",
   "execution_count": 34,
   "metadata": {},
   "outputs": [],
   "source": [
    "a = pd.read_csv(\"/home/alien_yhl/workspace/img_align/data/image_retrieval/subject.csv\", sep = \"\\t\", header=None)"
   ]
  },
  {
   "cell_type": "code",
   "execution_count": 35,
   "metadata": {},
   "outputs": [
    {
     "data": {
      "text/html": [
       "<div>\n",
       "<style scoped>\n",
       "    .dataframe tbody tr th:only-of-type {\n",
       "        vertical-align: middle;\n",
       "    }\n",
       "\n",
       "    .dataframe tbody tr th {\n",
       "        vertical-align: top;\n",
       "    }\n",
       "\n",
       "    .dataframe thead th {\n",
       "        text-align: right;\n",
       "    }\n",
       "</style>\n",
       "<table border=\"1\" class=\"dataframe\">\n",
       "  <thead>\n",
       "    <tr style=\"text-align: right;\">\n",
       "      <th></th>\n",
       "      <th>0</th>\n",
       "      <th>1</th>\n",
       "    </tr>\n",
       "  </thead>\n",
       "  <tbody>\n",
       "    <tr>\n",
       "      <th>0</th>\n",
       "      <td>1160f10f-e83c-4599-a4c0-a33323d19b18</td>\n",
       "      <td>english</td>\n",
       "    </tr>\n",
       "    <tr>\n",
       "      <th>1</th>\n",
       "      <td>13cf87e1-1a28-4395-b990-f0ca93573f17</td>\n",
       "      <td>english</td>\n",
       "    </tr>\n",
       "    <tr>\n",
       "      <th>2</th>\n",
       "      <td>1655fea3-a657-420f-bbe4-a1681a87f94f</td>\n",
       "      <td>english</td>\n",
       "    </tr>\n",
       "    <tr>\n",
       "      <th>3</th>\n",
       "      <td>18930d24-f9bf-4b02-b184-d9bcf3bbfb6f</td>\n",
       "      <td>english</td>\n",
       "    </tr>\n",
       "    <tr>\n",
       "      <th>4</th>\n",
       "      <td>1ffea31c-0a79-47e9-8185-74b646d75613</td>\n",
       "      <td>english</td>\n",
       "    </tr>\n",
       "  </tbody>\n",
       "</table>\n",
       "</div>"
      ],
      "text/plain": [
       "                                      0        1\n",
       "0  1160f10f-e83c-4599-a4c0-a33323d19b18  english\n",
       "1  13cf87e1-1a28-4395-b990-f0ca93573f17  english\n",
       "2  1655fea3-a657-420f-bbe4-a1681a87f94f  english\n",
       "3  18930d24-f9bf-4b02-b184-d9bcf3bbfb6f  english\n",
       "4  1ffea31c-0a79-47e9-8185-74b646d75613  english"
      ]
     },
     "execution_count": 35,
     "metadata": {},
     "output_type": "execute_result"
    }
   ],
   "source": [
    "a.head()"
   ]
  },
  {
   "cell_type": "code",
   "execution_count": 40,
   "metadata": {},
   "outputs": [
    {
     "data": {
      "text/plain": [
       "0    1160f10f-e83c-4599-a4c0-a33323d19b18\n",
       "1                                 english\n",
       "Name: 0, dtype: object"
      ]
     },
     "execution_count": 40,
     "metadata": {},
     "output_type": "execute_result"
    }
   ],
   "source": [
    "a.loc[0]\n"
   ]
  },
  {
   "cell_type": "code",
   "execution_count": 42,
   "metadata": {},
   "outputs": [],
   "source": [
    "math = []\n",
    "eng = []\n",
    "for i in range(len(a)):\n",
    "    \n",
    "    if a.loc[i][1] == \"english\":\n",
    "        eng.append(a.loc[i][0])\n",
    "    elif a.loc[i][1] == \"math\":\n",
    "        math.append(a.loc[i][0])\n",
    "    else:\n",
    "        continue"
   ]
  },
  {
   "cell_type": "code",
   "execution_count": 43,
   "metadata": {},
   "outputs": [
    {
     "data": {
      "text/plain": [
       "23952"
      ]
     },
     "execution_count": 43,
     "metadata": {},
     "output_type": "execute_result"
    }
   ],
   "source": [
    "len(eng)"
   ]
  },
  {
   "cell_type": "code",
   "execution_count": 44,
   "metadata": {},
   "outputs": [
    {
     "data": {
      "text/plain": [
       "15460"
      ]
     },
     "execution_count": 44,
     "metadata": {},
     "output_type": "execute_result"
    }
   ],
   "source": [
    "len(math)"
   ]
  },
  {
   "cell_type": "code",
   "execution_count": 46,
   "metadata": {},
   "outputs": [],
   "source": [
    "with open(\"/home/alien_yhl/workspace/img_align/test/english_23952.txt\", 'w') as f:\n",
    "    f.writelines(\"\\n\".join(eng))"
   ]
  },
  {
   "cell_type": "code",
   "execution_count": 47,
   "metadata": {},
   "outputs": [],
   "source": [
    "with open(\"/home/alien_yhl/workspace/img_align/test/math_15460.txt\", 'w') as f:\n",
    "    f.writelines(\"\\n\".join(math))"
   ]
  },
  {
   "cell_type": "code",
   "execution_count": 1,
   "metadata": {},
   "outputs": [],
   "source": [
    "#analysis and visualize the mktps ratio(of ptks of template)\n",
    "import glob\n",
    "import json\n",
    "\n",
    "from scipy.spatial import distance"
   ]
  },
  {
   "cell_type": "code",
   "execution_count": 2,
   "metadata": {},
   "outputs": [
    {
     "name": "stdout",
     "output_type": "stream",
     "text": [
      "15460\n"
     ]
    }
   ],
   "source": [
    "filename = \"test\"\n",
    "json_list = glob.glob(\"/home/alien_yhl/downloads/results_json/math_15460/\"+\"*_result.json\")\n",
    "print(len(json_list))"
   ]
  },
  {
   "cell_type": "code",
   "execution_count": 3,
   "metadata": {},
   "outputs": [
    {
     "name": "stdout",
     "output_type": "stream",
     "text": [
      "18066\n",
      "558\n"
     ]
    }
   ],
   "source": [
    "#calculate euclidean distance\n",
    "dists = []\n",
    "failures = []\n",
    "rdi = []#ratio, distance, isGT\n",
    "for js in json_list:\n",
    "    with open(js, 'r') as f:\n",
    "        data = json.load(f)\n",
    "    alignment_results = data[\"alignment_results\"]\n",
    "    try:\n",
    "        for i in range(len(alignment_results.keys())):\n",
    "            sample_mkpts = alignment_results[str(i)][\"matched_features\"][\"sample_mkpts\"]\n",
    "            template_mkpts = alignment_results[str(i)][\"matched_features\"][\"template_mkpts\"]\n",
    "            ratio = alignment_results[str(i)][\"matched_features\"][\"mkpts_ratio2template\"]\n",
    "            isGT = alignment_results[str(i)][\"isGroundTruthTemplate\"]\n",
    "            dist = 0\n",
    "            if len(sample_mkpts) != len(template_mkpts):\n",
    "                print(\"length not same\".format(data[\"id\"]))\n",
    "                \n",
    "            for j in range(len(sample_mkpts)):\n",
    "                dist += distance.euclidean(sample_mkpts[j], template_mkpts[j])\n",
    "                dist = dist / (j+1)\n",
    "            dists.append(dist)\n",
    "            rdi.append((ratio, dist, isGT))\n",
    "    except:\n",
    "        failures.append(data[\"id\"])\n",
    "print(json_list)\n",
    "print(len(dists))\n",
    "print(len(failures))"
   ]
  },
  {
   "attachments": {},
   "cell_type": "markdown",
   "metadata": {},
   "source": [
    "math：\n",
    "    总sample数：15460；失效sample：558；有效sample数：14914\n",
    "    有效template数：18066，其中正样本数：14914，负样本数：3152\n",
    "    "
   ]
  },
  {
   "cell_type": "code",
   "execution_count": 88,
   "metadata": {},
   "outputs": [
    {
     "name": "stdout",
     "output_type": "stream",
     "text": [
      "Precision: 0.9903691813804173\n",
      "Recall: 0.19574873096446702\n"
     ]
    }
   ],
   "source": [
    "#只采用distance阈值\n",
    "dist_thres = 10\n",
    "real_d = [x[1] for x in rdi if x[2] == 1]\n",
    "fake_d = [x[1] for x in rdi if x[2] == 0]\n",
    "tp = [x for x in fake_d if x>dist_thres]\n",
    "fp = [x for x in real_d if x>dist_thres]\n",
    "print(\"Precision: {}\".format(len(tp)/(len(tp)+len(fp))))\n",
    "print(\"Recall: {}\".format(len(tp)/len(fake_d)))"
   ]
  },
  {
   "cell_type": "code",
   "execution_count": 60,
   "metadata": {},
   "outputs": [
    {
     "name": "stdout",
     "output_type": "stream",
     "text": [
      "Precision: 0.9948622139187295\n",
      "Recall: 0.675761421319797\n"
     ]
    }
   ],
   "source": [
    "#只采用ratio阈值\n",
    "ratio_thres = 0.042\n",
    "real_r = [x[0] for x in rdi if x[2] == 1]\n",
    "fake_r = [x[0] for x in rdi if x[2] == 0]\n",
    "tp = [x for x in fake_r if x<ratio_thres]\n",
    "fp = [x for x in real_r if x<ratio_thres]\n",
    "print(\"Precision: {}\".format(len(tp)/(len(tp)+len(fp))))\n",
    "print(\"Recall: {}\".format(len(tp)/len(fake_r)))\n"
   ]
  },
  {
   "cell_type": "code",
   "execution_count": 96,
   "metadata": {},
   "outputs": [
    {
     "name": "stdout",
     "output_type": "stream",
     "text": [
      "Precision: 0.9903069466882067\n",
      "Recall: 0.1944796954314721\n"
     ]
    }
   ],
   "source": [
    "#同时满足distance阈值60和ratio阈值0.1方才拒识\n",
    "#real为正确template，但却不应该拒识，注意要与二分类的正样本区分开\n",
    "ratio_thres = 0.1\n",
    "dist_thres = 10\n",
    "real = [(x[0],x[1]) for x in rdi if x[2] == 1]\n",
    "fake = [(x[0],x[1]) for x in rdi if x[2] == 0]\n",
    "tp = [x for x in fake if x[0]<ratio_thres and x[1]>dist_thres]\n",
    "fp = [x for x in real if x[0]<ratio_thres and x[1]>dist_thres]\n",
    "print(\"Precision: {}\".format(len(tp)/(len(tp)+len(fp))))\n",
    "print(\"Recall: {}\".format(len(tp)/len(fake)))"
   ]
  },
  {
   "cell_type": "code",
   "execution_count": 97,
   "metadata": {},
   "outputs": [
    {
     "name": "stdout",
     "output_type": "stream",
     "text": [
      "Precision: 0.9898523985239852\n",
      "Recall: 0.6808375634517766\n"
     ]
    }
   ],
   "source": [
    "#满足distance阈值60和ratio阈值0.1一个即拒识\n",
    "ratio_thres = 0.04\n",
    "dist_thres = 5\n",
    "real = [(x[0],x[1]) for x in rdi if x[2] == 1]\n",
    "fake = [(x[0],x[1]) for x in rdi if x[2] == 0]\n",
    "tp = [x for x in fake if x[0]<ratio_thres or x[1]>dist_thres]\n",
    "fp = [x for x in real if x[0]<ratio_thres or x[1]>dist_thres]\n",
    "print(\"Precision: {}\".format(len(tp)/(len(tp)+len(fp))))\n",
    "print(\"Recall: {}\".format(len(tp)/len(fake)))"
   ]
  },
  {
   "cell_type": "code",
   "execution_count": 22,
   "metadata": {},
   "outputs": [
    {
     "data": {
      "text/plain": [
       "14914"
      ]
     },
     "execution_count": 22,
     "metadata": {},
     "output_type": "execute_result"
    }
   ],
   "source": [
    "len(real)"
   ]
  },
  {
   "cell_type": "code",
   "execution_count": 5,
   "metadata": {},
   "outputs": [
    {
     "data": {
      "text/plain": [
       "<matplotlib.collections.PathCollection at 0x7f77ea8242b0>"
      ]
     },
     "execution_count": 5,
     "metadata": {},
     "output_type": "execute_result"
    },
    {
     "data": {
      "image/png": "[encoded data removed]",
      "text/plain": [
       "<Figure size 640x480 with 1 Axes>"
      ]
     },
     "metadata": {},
     "output_type": "display_data"
    }
   ],
   "source": [
    "\n",
    "import matplotlib.pyplot as plt\n",
    "figure, ax = plt.subplots()\n",
    "r = [x[0] for x in rdi if x[2] == 1]\n",
    "d = [x[1] for x in rdi if x[2] == 1]\n",
    "ax.scatter(r,d,s = 0.2)"
   ]
  },
  {
   "cell_type": "code",
   "execution_count": 51,
   "metadata": {},
   "outputs": [
    {
     "data": {
      "text/plain": [
       "<matplotlib.collections.PathCollection at 0x7f517aa400a0>"
      ]
     },
     "execution_count": 51,
     "metadata": {},
     "output_type": "execute_result"
    },
    {
     "data": {
      "image/png": "[encoded data removed]",
      "text/plain": [
       "<Figure size 640x480 with 1 Axes>"
      ]
     },
     "metadata": {},
     "output_type": "display_data"
    }
   ],
   "source": [
    "import matplotlib.pyplot as plt\n",
    "figure, ax = plt.subplots()\n",
    "r = [x[0] for x in rdi]\n",
    "d = [x[1] for x in rdi]\n",
    "ax.scatter(r,d,s = 0.2)"
   ]
  },
  {
   "cell_type": "code",
   "execution_count": 10,
   "metadata": {},
   "outputs": [
    {
     "data": {
      "text/plain": [
       "1.0"
      ]
     },
     "execution_count": 10,
     "metadata": {},
     "output_type": "execute_result"
    }
   ],
   "source": [
    "len([x for x in d if x <60])/len(r)"
   ]
  },
  {
   "cell_type": "code",
   "execution_count": 39,
   "metadata": {},
   "outputs": [
    {
     "data": {
      "text/plain": [
       "(array([1.365e+03, 1.287e+03, 7.120e+02, 1.171e+03, 1.806e+03, 8.700e+02,\n",
       "        4.300e+02, 3.350e+02, 3.250e+02, 3.290e+02, 3.430e+02, 3.210e+02,\n",
       "        3.030e+02, 3.000e+02, 3.370e+02, 3.420e+02, 3.370e+02, 3.350e+02,\n",
       "        3.270e+02, 3.210e+02, 3.210e+02, 3.200e+02, 2.780e+02, 2.960e+02,\n",
       "        2.950e+02, 2.930e+02, 3.120e+02, 2.800e+02, 2.800e+02, 2.990e+02,\n",
       "        2.970e+02, 2.670e+02, 2.350e+02, 2.480e+02, 2.080e+02, 1.970e+02,\n",
       "        1.820e+02, 1.540e+02, 1.550e+02, 1.220e+02, 1.150e+02, 9.200e+01,\n",
       "        1.000e+02, 7.600e+01, 7.100e+01, 6.200e+01, 8.000e+01, 5.700e+01,\n",
       "        5.100e+01, 4.800e+01, 4.400e+01, 3.900e+01, 2.800e+01, 3.300e+01,\n",
       "        2.900e+01, 2.800e+01, 1.600e+01, 1.600e+01, 1.400e+01, 1.400e+01,\n",
       "        1.600e+01, 1.100e+01, 1.300e+01, 1.200e+01, 3.000e+00, 6.000e+00,\n",
       "        6.000e+00, 4.000e+00, 9.000e+00, 2.000e+00, 3.000e+00, 3.000e+00,\n",
       "        5.000e+00, 3.000e+00, 4.000e+00, 4.000e+00, 2.000e+00, 0.000e+00,\n",
       "        0.000e+00, 2.000e+00, 1.000e+00, 2.000e+00, 1.000e+00, 1.000e+00,\n",
       "        0.000e+00, 1.000e+00, 0.000e+00, 0.000e+00, 1.000e+00, 0.000e+00,\n",
       "        1.000e+00, 1.000e+00, 0.000e+00, 0.000e+00, 0.000e+00, 0.000e+00,\n",
       "        0.000e+00, 0.000e+00, 0.000e+00, 1.000e+00]),\n",
       " array([2.00000000e+00, 8.29294259e+02, 1.65658852e+03, 2.48388278e+03,\n",
       "        3.31117704e+03, 4.13847130e+03, 4.96576556e+03, 5.79305981e+03,\n",
       "        6.62035407e+03, 7.44764833e+03, 8.27494259e+03, 9.10223685e+03,\n",
       "        9.92953111e+03, 1.07568254e+04, 1.15841196e+04, 1.24114139e+04,\n",
       "        1.32387081e+04, 1.40660024e+04, 1.48932967e+04, 1.57205909e+04,\n",
       "        1.65478852e+04, 1.73751794e+04, 1.82024737e+04, 1.90297680e+04,\n",
       "        1.98570622e+04, 2.06843565e+04, 2.15116507e+04, 2.23389450e+04,\n",
       "        2.31662393e+04, 2.39935335e+04, 2.48208278e+04, 2.56481220e+04,\n",
       "        2.64754163e+04, 2.73027106e+04, 2.81300048e+04, 2.89572991e+04,\n",
       "        2.97845933e+04, 3.06118876e+04, 3.14391818e+04, 3.22664761e+04,\n",
       "        3.30937704e+04, 3.39210646e+04, 3.47483589e+04, 3.55756531e+04,\n",
       "        3.64029474e+04, 3.72302417e+04, 3.80575359e+04, 3.88848302e+04,\n",
       "        3.97121244e+04, 4.05394187e+04, 4.13667130e+04, 4.21940072e+04,\n",
       "        4.30213015e+04, 4.38485957e+04, 4.46758900e+04, 4.55031843e+04,\n",
       "        4.63304785e+04, 4.71577728e+04, 4.79850670e+04, 4.88123613e+04,\n",
       "        4.96396556e+04, 5.04669498e+04, 5.12942441e+04, 5.21215383e+04,\n",
       "        5.29488326e+04, 5.37761268e+04, 5.46034211e+04, 5.54307154e+04,\n",
       "        5.62580096e+04, 5.70853039e+04, 5.79125981e+04, 5.87398924e+04,\n",
       "        5.95671867e+04, 6.03944809e+04, 6.12217752e+04, 6.20490694e+04,\n",
       "        6.28763637e+04, 6.37036580e+04, 6.45309522e+04, 6.53582465e+04,\n",
       "        6.61855407e+04, 6.70128350e+04, 6.78401293e+04, 6.86674235e+04,\n",
       "        6.94947178e+04, 7.03220120e+04, 7.11493063e+04, 7.19766005e+04,\n",
       "        7.28038948e+04, 7.36311891e+04, 7.44584833e+04, 7.52857776e+04,\n",
       "        7.61130718e+04, 7.69403661e+04, 7.77676604e+04, 7.85949546e+04,\n",
       "        7.94222489e+04, 8.02495431e+04, 8.10768374e+04, 8.19041317e+04,\n",
       "        8.27314259e+04]),\n",
       " <BarContainer object of 100 artists>)"
      ]
     },
     "execution_count": 39,
     "metadata": {},
     "output_type": "execute_result"
    },
    {
     "data": {
      "image/png": "[encoded data removed]",
      "text/plain": [
       "<Figure size 640x480 with 1 Axes>"
      ]
     },
     "metadata": {},
     "output_type": "display_data"
    }
   ],
   "source": [
    "sum(dists)/len(dists)\n",
    "import matplotlib.pyplot as plt\n",
    "figure, ax = plt.subplots()\n",
    "ax.hist(dists, bins = 100)"
   ]
  },
  {
   "cell_type": "code",
   "execution_count": 4,
   "metadata": {},
   "outputs": [],
   "source": [
    "math_real = []\n",
    "math_fake = []\n",
    "for js in json_list:\n",
    "    with open(js, 'r') as f :\n",
    "        data = json.load(f)\n",
    "    name = data[\"id\"]\n",
    "    alignment_results = data[\"alignment_results\"]\n",
    "    try:\n",
    "        for i in range(len(alignment_results.keys())):\n",
    "            matched_features = alignment_results[str(i)][\"matched_features\"]\n",
    "            ratio = matched_features[\"mkpts_ratio2template\"]\n",
    "            if alignment_results[str(i)][\"isGroundTruthTemplate\"] == 1:\n",
    "                math_real.append(ratio)\n",
    "            else:\n",
    "                math_fake.append(ratio)\n",
    "    except:\n",
    "        continue\n",
    "\n",
    "    "
   ]
  },
  {
   "cell_type": "code",
   "execution_count": 5,
   "metadata": {},
   "outputs": [
    {
     "data": {
      "text/plain": [
       "14914"
      ]
     },
     "execution_count": 5,
     "metadata": {},
     "output_type": "execute_result"
    }
   ],
   "source": [
    "len(math_real)"
   ]
  },
  {
   "cell_type": "code",
   "execution_count": 40,
   "metadata": {},
   "outputs": [
    {
     "data": {
      "text/plain": [
       "2134"
      ]
     },
     "execution_count": 40,
     "metadata": {},
     "output_type": "execute_result"
    }
   ],
   "source": [
    "len(math_fake)"
   ]
  },
  {
   "cell_type": "code",
   "execution_count": 6,
   "metadata": {},
   "outputs": [
    {
     "name": "stdout",
     "output_type": "stream",
     "text": [
      "23952\n",
      "22164\n"
     ]
    }
   ],
   "source": [
    "filename = \"test\"\n",
    "json_list = glob.glob(\"/home/alien_yhl/downloads/results_json/english_23952/\"+\"*_result.json\")\n",
    "print(len(json_list))\n",
    "english_real = []\n",
    "english_fake = []\n",
    "for js in json_list:\n",
    "    with open(js, 'r') as f :\n",
    "        data = json.load(f)\n",
    "    name = data[\"id\"]\n",
    "    alignment_results = data[\"alignment_results\"]\n",
    "    try:\n",
    "        for i in range(len(alignment_results.keys())):\n",
    "            matched_features = alignment_results[str(i)][\"matched_features\"]\n",
    "            ratio = matched_features[\"mkpts_ratio2template\"]\n",
    "            if alignment_results[str(i)][\"isGroundTruthTemplate\"] == 1:\n",
    "                english_real.append(ratio)\n",
    "            else:\n",
    "                english_fake.append(ratio)\n",
    "    except:\n",
    "        continue\n",
    "print(len(english_real))"
   ]
  },
  {
   "cell_type": "code",
   "execution_count": 7,
   "metadata": {},
   "outputs": [
    {
     "data": {
      "text/plain": [
       "[0.681640625, 0.646484375, 0.73046875, 0.611328125, 0.56640625]"
      ]
     },
     "execution_count": 7,
     "metadata": {},
     "output_type": "execute_result"
    }
   ],
   "source": [
    "english_real[0:5]"
   ]
  },
  {
   "cell_type": "code",
   "execution_count": 8,
   "metadata": {},
   "outputs": [],
   "source": [
    "#visualize\n",
    "import matplotlib.pyplot as plt"
   ]
  },
  {
   "cell_type": "code",
   "execution_count": 23,
   "metadata": {},
   "outputs": [
    {
     "data": {
      "text/plain": [
       "(array([893., 604., 224., 125.,  58.,  36.,  15.,  24.,  21.,  22.,  12.,\n",
       "          6.,   4.,   6.,   2.,   1.,   3.,   1.,   1.,   0.,   3.,   0.,\n",
       "          0.,   4.,   3.,   0.,   2.,   1.,   1.,   1.,   0.,   0.,   0.,\n",
       "          0.,   0.,   0.,   0.,   0.,   0.,   0.,   0.,   0.,   1.,   0.,\n",
       "          0.,   0.,   1.,   1.,   0.,   1.,   1.,   1.,   0.,   0.,   0.,\n",
       "          0.,   0.,   0.,   1.,   3.,   1.,   3.,   1.,   0.,   0.,   1.,\n",
       "          1.,   4.,   3.,   5.,   5.,   7.,   2.,   1.,   5.,   2.,   1.,\n",
       "          1.,   4.,   1.,   1.,   0.,   1.,   1.,   0.,   0.,   0.,   0.,\n",
       "          0.,   0.,   0.,   0.,   0.,   0.,   0.,   0.,   0.,   0.,   0.,\n",
       "          0.]),\n",
       " array([0.  , 0.01, 0.02, 0.03, 0.04, 0.05, 0.06, 0.07, 0.08, 0.09, 0.1 ,\n",
       "        0.11, 0.12, 0.13, 0.14, 0.15, 0.16, 0.17, 0.18, 0.19, 0.2 , 0.21,\n",
       "        0.22, 0.23, 0.24, 0.25, 0.26, 0.27, 0.28, 0.29, 0.3 , 0.31, 0.32,\n",
       "        0.33, 0.34, 0.35, 0.36, 0.37, 0.38, 0.39, 0.4 , 0.41, 0.42, 0.43,\n",
       "        0.44, 0.45, 0.46, 0.47, 0.48, 0.49, 0.5 , 0.51, 0.52, 0.53, 0.54,\n",
       "        0.55, 0.56, 0.57, 0.58, 0.59, 0.6 , 0.61, 0.62, 0.63, 0.64, 0.65,\n",
       "        0.66, 0.67, 0.68, 0.69, 0.7 , 0.71, 0.72, 0.73, 0.74, 0.75, 0.76,\n",
       "        0.77, 0.78, 0.79, 0.8 , 0.81, 0.82, 0.83, 0.84, 0.85, 0.86, 0.87,\n",
       "        0.88, 0.89, 0.9 , 0.91, 0.92, 0.93, 0.94, 0.95, 0.96, 0.97, 0.98,\n",
       "        0.99, 1.  ]),\n",
       " <BarContainer object of 100 artists>)"
      ]
     },
     "execution_count": 23,
     "metadata": {},
     "output_type": "execute_result"
    },
    {
     "data": {
      "image/png": "[encoded data removed]",
      "text/plain": [
       "<Figure size 640x480 with 4 Axes>"
      ]
     },
     "metadata": {},
     "output_type": "display_data"
    }
   ],
   "source": [
    "fig, ax = plt.subplots(2,2)\n",
    "ax[0,0].set_xlim((0,1))\n",
    "ax[0,0].grid(True);ax[0,1].grid(True);ax[1,0].grid(True);ax[1,1].grid(True)\n",
    "ax[0,0].hist(math_real, bins = 100,range = (0,1))\n",
    "ax[0,1].set_xlim((0,1))\n",
    "ax[0,1].hist(math_fake, bins = 100,range = (0,1))\n",
    "ax[1,0].set_xlim((0,1))\n",
    "ax[1,0].hist(english_real, bins = 100,range = (0,1))\n",
    "ax[1,1].set_xlim((0,1))\n",
    "ax[1,1].hist(english_fake, bins = 100,range = (0,1))\n"
   ]
  },
  {
   "attachments": {},
   "cell_type": "markdown",
   "metadata": {},
   "source": [
    "english: \n",
    "    总sample数：23952；有效sample数：22164；\n",
    "    有效template数：24298；其中正样本数：22164；负样本数：2134\n",
    "    \n",
    "math:\n",
    "    总sample数：15460；有效sample数：14914\n",
    "    有效template数：18066；其中正样本数：14914；负样本数：3152"
   ]
  },
  {
   "cell_type": "code",
   "execution_count": 12,
   "metadata": {},
   "outputs": [
    {
     "data": {
      "text/plain": [
       "3127"
      ]
     },
     "execution_count": 12,
     "metadata": {},
     "output_type": "execute_result"
    }
   ],
   "source": [
    "[i <= 0.2 for i in math_fake].count(True)"
   ]
  },
  {
   "cell_type": "code",
   "execution_count": 20,
   "metadata": {},
   "outputs": [
    {
     "data": {
      "text/plain": [
       "0.927893175074184"
      ]
     },
     "execution_count": 20,
     "metadata": {},
     "output_type": "execute_result"
    }
   ],
   "source": [
    "3127/(3152+218)"
   ]
  },
  {
   "cell_type": "code",
   "execution_count": 15,
   "metadata": {},
   "outputs": [
    {
     "data": {
      "text/plain": [
       "30"
      ]
     },
     "execution_count": 15,
     "metadata": {},
     "output_type": "execute_result"
    }
   ],
   "source": [
    "[i <= 0.2 for i in english_real].count(True)"
   ]
  },
  {
   "cell_type": "code",
   "execution_count": 16,
   "metadata": {},
   "outputs": [
    {
     "data": {
      "text/plain": [
       "2058"
      ]
     },
     "execution_count": 16,
     "metadata": {},
     "output_type": "execute_result"
    }
   ],
   "source": [
    "[i <= 0.2 for i in english_fake].count(True)"
   ]
  },
  {
   "cell_type": "code",
   "execution_count": 17,
   "metadata": {},
   "outputs": [
    {
     "data": {
      "text/plain": [
       "2134"
      ]
     },
     "execution_count": 17,
     "metadata": {},
     "output_type": "execute_result"
    }
   ],
   "source": [
    "len(english_fake)"
   ]
  },
  {
   "cell_type": "code",
   "execution_count": 18,
   "metadata": {},
   "outputs": [
    {
     "data": {
      "text/plain": [
       "0.9510166358595195"
      ]
     },
     "execution_count": 18,
     "metadata": {},
     "output_type": "execute_result"
    }
   ],
   "source": [
    "2058/(2134+30)"
   ]
  },
  {
   "cell_type": "code",
   "execution_count": null,
   "metadata": {},
   "outputs": [],
   "source": []
  }
 ],
 "metadata": {
  "kernelspec": {
   "display_name": "base",
   "language": "python",
   "name": "python3"
  },
  "language_info": {
   "codemirror_mode": {
    "name": "ipython",
    "version": 3
   },
   "file_extension": ".py",
   "mimetype": "text/x-python",
   "name": "python",
   "nbconvert_exporter": "python",
   "pygments_lexer": "ipython3",
   "version": "3.8.13"
  },
  "orig_nbformat": 4,
  "vscode": {
   "interpreter": {
    "hash": "aba01b0fb9480ca2795775a8d9403352445a8480b79ad3e2e2faaddf87c0938d"
   }
  }
 },
 "nbformat": 4,
 "nbformat_minor": 2
}
