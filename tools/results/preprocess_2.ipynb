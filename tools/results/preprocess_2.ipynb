{
 "cells": [
  {
   "attachments": {},
   "cell_type": "markdown",
   "metadata": {},
   "source": [
    "english: \n",
    "    \n",
    "    更新后（更改读取json文件方式）：\n",
    "    总sample数：23952；总template数：29321;（包括被旧算法拒识的template)\n",
    "    有效template数：26042；其中正样本数：23881；负样本数：2161\n",
    "math:\n",
    "    \n",
    "    更新后（更改读取json文件方式）：\n",
    "    总sample数：15460；总template数：19511;（包括被旧算法拒识的template)\n",
    "    有效template数：18648；其中正样本数：15468；负样本数：3180\n",
    "\n",
    "    注意！！有的sample没有与之匹配的template（标注错误数据，被自带的拒识功能拒识掉了）\n",
    "\n",
    "    旧算法召回率计算方法：（总template数 - 有效template数） / （总template数 - 其中正样本数）"
   ]
  },
  {
   "attachments": {},
   "cell_type": "markdown",
   "metadata": {},
   "source": [
    "新算法测评（学科加在一起）：\n",
    "    ratio阈值设置为0.1\n",
    "    Precion = tp / (tp + fp)\n",
    "    \n",
    "    "
   ]
  },
  {
   "cell_type": "code",
   "execution_count": 3,
   "metadata": {},
   "outputs": [
    {
     "ename": "NameError",
     "evalue": "name 'english_fake_r' is not defined",
     "output_type": "error",
     "traceback": [
      "\u001b[0;31m---------------------------------------------------------------------------\u001b[0m",
      "\u001b[0;31mNameError\u001b[0m                                 Traceback (most recent call last)",
      "Cell \u001b[0;32mIn[3], line 2\u001b[0m\n\u001b[1;32m      1\u001b[0m \u001b[39m#calculate tp, fp and fn\u001b[39;00m\n\u001b[0;32m----> 2\u001b[0m fake_r \u001b[39m=\u001b[39m english_fake_r \u001b[39m+\u001b[39m math_fake_r\n\u001b[1;32m      3\u001b[0m all_r \u001b[39m=\u001b[39m math_real_r\u001b[39m+\u001b[39menglish_real_r\u001b[39m+\u001b[39mmath_fake_r \u001b[39m+\u001b[39m english_fake_r\n\u001b[1;32m      4\u001b[0m tp \u001b[39m=\u001b[39m [x \u001b[39mfor\u001b[39;00m x \u001b[39min\u001b[39;00m fake_r \u001b[39mif\u001b[39;00m x \u001b[39m<\u001b[39m\u001b[39m=\u001b[39m \u001b[39m0.05\u001b[39m]\n",
      "\u001b[0;31mNameError\u001b[0m: name 'english_fake_r' is not defined"
     ]
    }
   ],
   "source": [
    "#calculate tp, fp and fn\n",
    "fake_r = english_fake_r + math_fake_r\n",
    "all_r = math_real_r+english_real_r+math_fake_r + english_fake_r\n",
    "tp = [x for x in fake_r if x <= 0.05]\n",
    "tp_fp = [x for x in all_r if x <= 0.05]\n",
    "print(\"tp = {}\".format(len(tp)))\n",
    "print(\"tp + fp = {}\".format(len(tp_fp)))\n",
    "print(\"tp+tn= {}\".format(len(fake_r)))"
   ]
  },
  {
   "cell_type": "code",
   "execution_count": null,
   "metadata": {},
   "outputs": [
    {
     "name": "stdout",
     "output_type": "stream",
     "text": [
      "211\n"
     ]
    }
   ],
   "source": [
    "#output fp\n",
    "difficult = [x[3] for x in fake_rdi if x[0] > 0.1]\n",
    "with open(\"/home/alien_yhl/workspace/img_align/test/math_fn_ratio0.1.txt\", 'w') as f:\n",
    "    f.writelines('\\n'.join(difficult))\n",
    "print(len(difficult))"
   ]
  },
  {
   "cell_type": "code",
   "execution_count": null,
   "metadata": {},
   "outputs": [
    {
     "name": "stdout",
     "output_type": "stream",
     "text": [
      "42411\n",
      "31463\n"
     ]
    }
   ],
   "source": [
    "#output negative_templates\n",
    "print(len(real_rdi))\n",
    "print(len(fake_rdi))\n",
    "y = [\"{}\\t{}\".format(x[3], x[0]) for x in fake_rdi]\n",
    "with open(\"/home/alien_yhl/data/negative_templates.txt\", 'w') as f:\n",
    "    f.writelines('\\n'.join(y))"
   ]
  },
  {
   "cell_type": "code",
   "execution_count": 29,
   "metadata": {},
   "outputs": [
    {
     "name": "stdout",
     "output_type": "stream",
     "text": [
      "23952\n"
     ]
    },
    {
     "name": "stderr",
     "output_type": "stream",
     "text": [
      "100%|██████████| 23952/23952 [10:07<00:00, 39.43it/s]\n"
     ]
    },
    {
     "name": "stdout",
     "output_type": "stream",
     "text": [
      "26042\n",
      "0\n",
      "0\n",
      "After delete repeats: 23881\n"
     ]
    }
   ],
   "source": [
    "import glob\n",
    "import json\n",
    "from tqdm import tqdm\n",
    "from scipy.spatial import distance\n",
    "import matplotlib.pyplot as plt\n",
    "\n",
    "# json_list = glob.glob(\"/home/alien_yhl/data/results_6w/\"+\"*_result.json\")\n",
    "# json_list = glob.glob(\"/home/alien_yhl/downloads/results_json/math_15460/\"+\"*_result.json\")\n",
    "# json_list = glob.glob(\"/home/alien_yhl/workspace/img_align/logs/img_align_no_results_v2/\"+\"*_result.json\")\n",
    "json_list = glob.glob(\"/home/alien_yhl/downloads/results_json/english_23952/\"+\"*_result.json\")\n",
    "\n",
    "print(len(json_list))\n",
    "\n",
    "#calculate euclidean distance\n",
    "dists = []\n",
    "failures = []\n",
    "special = []\n",
    "rdi = []\n",
    "for js in tqdm(json_list):\n",
    "    with open(js, 'r') as f:\n",
    "        data = json.load(f)\n",
    "    alignment_results = data[\"alignment_results\"]\n",
    "    try:\n",
    "        mark = 0\n",
    "        for i in alignment_results.keys():\n",
    "            sample_mkpts = alignment_results[i][\"matched_features\"][\"sample_mkpts\"]\n",
    "            template_mkpts = alignment_results[i][\"matched_features\"][\"template_mkpts\"]\n",
    "            ratio = alignment_results[i][\"matched_features\"][\"mkpts_ratio2template\"]\n",
    "            template_kpts_count = alignment_results[i][\"template_features\"][\"template_kpts_count\"]\n",
    "            isGT = alignment_results[i][\"isGroundTruthTemplate\"]\n",
    "            mkpts_conf = alignment_results[i][\"matched_features\"][\"mkpts_conf\"]\n",
    "            aver_conf = sum(mkpts_conf) / len(mkpts_conf)\n",
    "\n",
    "            if isGT == 1:\n",
    "                mark += 1\n",
    "            \n",
    "            dist = 0; weighted_dist = 0;\n",
    "            modified_ratio = (len(mkpts_conf) - 10) / template_kpts_count\n",
    "            if len(sample_mkpts) != len(template_mkpts):\n",
    "                print(\"length not same\".format(data[\"id\"]))\n",
    "                \n",
    "            for j in range(len(sample_mkpts)):\n",
    "                \n",
    "                dist += distance.euclidean(sample_mkpts[j], template_mkpts[j])\n",
    "                weighted_dist += distance.euclidean(sample_mkpts[j], template_mkpts[j])*mkpts_conf[j]\n",
    "                dist = dist / (j+1); weighted_dist = weighted_dist / (j+1);\n",
    "\n",
    "            dists.append(dist)\n",
    "            rdi.append((ratio, dist, isGT, data[\"id\"], weighted_dist, aver_conf, i, modified_ratio)) ####MOST IMPORTANT!\n",
    "\n",
    "        if mark > 1:\n",
    "            special.append(data[\"id\"])\n",
    "    except:\n",
    "        failures.append(data[\"id\"])\n",
    "print(len(rdi))\n",
    "print(len(failures))\n",
    "print(len(special))\n",
    "real_rdi = [x for x in rdi if x[2] == 1]\n",
    "fake_rdi = [x for x in rdi if x[2] == 0]\n",
    "\n",
    "if len(special) > 0:\n",
    "    repeated = [real_rdi[i+1] for i in range(len(real_rdi[:-1])) if real_rdi[i][3] == real_rdi[i+1][3]]\n",
    "    for i in repeated:\n",
    "        real_rdi.remove(i)\n",
    "print(\"After delete repeats: {}\".format(len(real_rdi)))\n"
   ]
  },
  {
   "cell_type": "code",
   "execution_count": 31,
   "metadata": {},
   "outputs": [],
   "source": [
    "#save data\n",
    "def save_data(rdi, path):\n",
    "    rdi = ['\\t'.join(map(str, x)) for x in rdi]\n",
    "    with open(path, 'w') as f:\n",
    "        f.writelines('\\n'.join(rdi))\n",
    "save_data(real_rdi, \"/home/alien_yhl/data/save_data/english_23952/real.txt\")\n",
    "save_data(fake_rdi, \"/home/alien_yhl/data/save_data/english_23952/fake.txt\")"
   ]
  },
  {
   "cell_type": "code",
   "execution_count": 48,
   "metadata": {},
   "outputs": [
    {
     "name": "stdout",
     "output_type": "stream",
     "text": [
      "120\n"
     ]
    }
   ],
   "source": [
    "#read data\n",
    "def read_data(path):\n",
    "    with open(path, 'r') as f:\n",
    "        rdi = f.readlines()\n",
    "    rdi = [ x.strip().split('\\t') for x in rdi]\n",
    "    # real_rdi = [x for x in rdi if int(x[2]) == 1]\n",
    "    # fake_rdi = [x for x in rdi if int(x[2]) == 0]\n",
    "    return rdi\n",
    "math_real_rdi = read_data(\"/home/alien_yhl/data/save_data/math_15460/real.txt\")\n",
    "math_fake_rdi = read_data(\"/home/alien_yhl/data/save_data/math_15460/fake.txt\")\n"
   ]
  },
  {
   "cell_type": "code",
   "execution_count": null,
   "metadata": {},
   "outputs": [],
   "source": [
    "#analysis data\n",
    "dif = [x for x in math_real_rdi if float(x[0])>0.1 and float(x[7])<=0.1]\n",
    "dif_fake = [x[3] for x in math_fake_rdi if float(x[0])>0.1 and float(x[7])<=0.1]\n",
    "with open(\"/home/alien_yhl/workspace/img_align/test/ratio_modify_dif_fake.txt\", 'w') as f:\n",
    "    f.writelines('\\n'.join(dif_fake))\n",
    "print(len(dif_fake))"
   ]
  },
  {
   "cell_type": "code",
   "execution_count": 37,
   "metadata": {},
   "outputs": [
    {
     "ename": "SyntaxError",
     "evalue": "unexpected EOF while parsing (<string>, line 1)",
     "output_type": "error",
     "traceback": [
      "Traceback \u001b[0;36m(most recent call last)\u001b[0m:\n",
      "\u001b[0m  File \u001b[1;32m~/miniconda3/lib/python3.8/site-packages/IPython/core/interactiveshell.py:3442\u001b[0m in \u001b[1;35mrun_code\u001b[0m\n    exec(code_obj, self.user_global_ns, self.user_ns)\u001b[0m\n",
      "\u001b[0;36m  Cell \u001b[0;32mIn[37], line 1\u001b[0;36m\n\u001b[0;31m    eval(\"1.abc\")\u001b[0;36m\n",
      "\u001b[0;36m  File \u001b[0;32m<string>:1\u001b[0;36m\u001b[0m\n\u001b[0;31m    1.abc\u001b[0m\n\u001b[0m      ^\u001b[0m\n\u001b[0;31mSyntaxError\u001b[0m\u001b[0;31m:\u001b[0m unexpected EOF while parsing\n"
     ]
    }
   ],
   "source": []
  },
  {
   "cell_type": "code",
   "execution_count": 32,
   "metadata": {},
   "outputs": [
    {
     "name": "stdout",
     "output_type": "stream",
     "text": [
      "Old ratio access: Precision: 99.13%; Recall: 94.77%\n",
      "New ratio access: Precision: 99.09%; Recall: 95.37%\n"
     ]
    }
   ],
   "source": [
    "#evaluate from ratio<0.1 to modified_ratio<0.1,\n",
    "#main index: precision and recall\n",
    "def old_ratio_access(ratio):\n",
    "    tp = [x for x in fake_rdi if x[0] <= ratio]\n",
    "    fp = [x for x in real_rdi if x[0] <= ratio]\n",
    "    fn = [x for x in fake_rdi if x[0] > ratio]\n",
    "    p = len(tp) / (len(tp) + len(fp))\n",
    "    r = len(tp) / (len(tp) + len(fn))\n",
    "    print(\"Old ratio access: Precision: {:.2%}; Recall: {:.2%}\".format(p, r))\n",
    "def new_ratio_access(ratio):\n",
    "    tp = [x for x in fake_rdi if x[7] <= ratio]\n",
    "    fp = [x for x in real_rdi if x[7] <= ratio]\n",
    "    fn = [x for x in fake_rdi if x[7] > ratio]\n",
    "    p = len(tp) / (len(tp) + len(fp))\n",
    "    r = len(tp) / (len(tp) + len(fn))\n",
    "    print(\"New ratio access: Precision: {:.2%}; Recall: {:.2%}\".format(p, r))\n",
    "old_ratio_access(0.1)\n",
    "new_ratio_access(0.1)"
   ]
  },
  {
   "cell_type": "code",
   "execution_count": 34,
   "metadata": {},
   "outputs": [
    {
     "name": "stdout",
     "output_type": "stream",
     "text": [
      "[(0.107421875, 2.6812003747075597, 1, '48cfcd81-de03-433d-a2ea-650ce27dc13c', 2.417894720840931, 0.8045035243034363, '0', 0.09765625)]\n"
     ]
    }
   ],
   "source": [
    "dif = [x for x in real_rdi if x[0]>0.1 and x[7]<=0.1]\n",
    "print(dif)\n"
   ]
  },
  {
   "cell_type": "code",
   "execution_count": null,
   "metadata": {},
   "outputs": [
    {
     "name": "stdout",
     "output_type": "stream",
     "text": [
      "1942\n"
     ]
    }
   ],
   "source": [
    "#output 6w_results_part1_v2.txt\n",
    "print(len(real_rdi))\n",
    "\n",
    "real_sam = [\"{}\\t{}\\t{}\".format(x[3], x[6], x[0]) for x in real_rdi]\n",
    "with open(\"/home/alien_yhl/data/6w_results_part1_v2.txt\", 'w') as f:\n",
    "    f.writelines('\\n'.join(real_sam))"
   ]
  },
  {
   "cell_type": "code",
   "execution_count": null,
   "metadata": {},
   "outputs": [
    {
     "name": "stdout",
     "output_type": "stream",
     "text": [
      "1942\n",
      "['e43717ae-bb48-401d-a835-00b928f52335']\n"
     ]
    }
   ],
   "source": [
    "real_name = [x[3] for x in real_rdi]\n",
    "print(len(real_name))\n",
    "new_name = list(real_name)\n",
    "for i in list(set(real_name)):\n",
    "    new_name.remove(i)\n",
    "print(new_name)"
   ]
  },
  {
   "cell_type": "code",
   "execution_count": null,
   "metadata": {},
   "outputs": [
    {
     "name": "stdout",
     "output_type": "stream",
     "text": [
      "1292\n",
      "1292\n"
     ]
    }
   ],
   "source": [
    "output_withoutgt = {}\n",
    "for data in fake_rdi:\n",
    "    if data[3] not in real_name:\n",
    "        if data[3] not in output_withoutgt.keys() or output_withoutgt[data[3]][\"ratio\"] < data[0]:\n",
    "            output_withoutgt[data[3]] = {\n",
    "                \"temp_index\": data[6],\n",
    "                \"ratio\": data[0]\n",
    "            }\n",
    "print(len(output_withoutgt.keys()))\n",
    "output_withoutgt_list = [\"{}\\t{}\\t{}\".format(x, output_withoutgt[x][\"temp_index\"], output_withoutgt[x][\"ratio\"]) for x in output_withoutgt.keys()]\n",
    "print(len(output_withoutgt_list))"
   ]
  },
  {
   "cell_type": "code",
   "execution_count": null,
   "metadata": {},
   "outputs": [],
   "source": [
    "with open(\"/home/alien_yhl/data/6w_results_part1_v2.txt\", 'a') as f:\n",
    "    f.write('\\n')\n",
    "    f.writelines('\\n'.join(output_withoutgt_list))"
   ]
  },
  {
   "cell_type": "code",
   "execution_count": null,
   "metadata": {},
   "outputs": [
    {
     "name": "stdout",
     "output_type": "stream",
     "text": [
      "3233\n",
      "['e1c99c38-6e32-4b85-9b13-b062a2046655', 'd281806f-4225-41a9-ad6c-f9f59ff3b6e3', 'd0db1d6b-b7f2-4c09-8a8a-5897eb8514aa']\n",
      "3242\n",
      "['d0ff010f-65ca-4a1e-a524-60a226cf3ee0', 'd055e3cd-8ad2-4008-901d-103fe10fe196', 'd0474dd0-4df8-435f-96da-2f7cb5c2d4e6']\n",
      "d1156684-3b93-4236-84ea-62ac27d8e41d\n",
      "d5aff270-2711-4ccf-ad59-378520e21114\n",
      "d1f853e2-e00b-49bc-a7d9-a789f1489c69\n",
      "d3fe3338-9b38-49ba-8c52-6a9d5d1afcd7\n",
      "d46fa06b-ef48-4f32-b2f1-13f5b4fbc6c1\n",
      "d5742d7a-9903-45b7-ad82-d1bb3c4484ca\n",
      "de89d47a-1304-4266-abe9-c743f9004c69\n",
      "e2734ccb-f29a-48b9-ba37-e0c4f32e72c6\n",
      "e272b818-ddef-40c2-94a4-4b457984cd92\n"
     ]
    }
   ],
   "source": [
    "#analysis why some file read fail\n",
    "with open(\"/home/alien_yhl/data/6w_results_part1_v2.txt\", 'r') as f:\n",
    "    new_dt = f.readlines()\n",
    "new_dt = [x[0:36] for x in new_dt]\n",
    "print(len(new_dt))\n",
    "print(new_dt[0:3])\n",
    "\n",
    "with open(\"/home/alien_yhl/data/6w_results_part1.txt\", 'r') as f:\n",
    "    old_dt = f.readlines()\n",
    "old_dt = [x[0:36] for x in old_dt]\n",
    "print(len(old_dt))\n",
    "print(old_dt[0:3])\n",
    "for i in old_dt:\n",
    "    if i in new_dt:\n",
    "        continue\n",
    "    else:\n",
    "        print(i)"
   ]
  },
  {
   "cell_type": "code",
   "execution_count": null,
   "metadata": {},
   "outputs": [
    {
     "data": {
      "text/plain": [
       "36"
      ]
     },
     "execution_count": 12,
     "metadata": {},
     "output_type": "execute_result"
    }
   ],
   "source": [
    "len('e369a6fa-259d-4599-abca-af9b91e6458a')"
   ]
  },
  {
   "cell_type": "code",
   "execution_count": null,
   "metadata": {},
   "outputs": [],
   "source": [
    "math_real_rdi = [x for x in real_rdi]\n",
    "math_fake_rdi = [x for x in fake_rdi]\n",
    "math_real_d = [x[1] for x in math_real_rdi]\n",
    "math_fake_d = [x[1] for x in math_fake_rdi]\n",
    "math_real_conf = [x[5] for x in math_real_rdi]\n",
    "math_fake_conf = [x[5] for x in math_fake_rdi]\n"
   ]
  },
  {
   "cell_type": "code",
   "execution_count": null,
   "metadata": {},
   "outputs": [],
   "source": [
    "english_real_rdi = [x for x in real_rdi]\n",
    "english_fake_rdi = [x for x in fake_rdi]\n",
    "english_real_d = [x[1] for x in english_real_rdi]\n",
    "english_fake_d = [x[1] for x in english_fake_rdi]"
   ]
  },
  {
   "cell_type": "code",
   "execution_count": null,
   "metadata": {},
   "outputs": [
    {
     "name": "stdout",
     "output_type": "stream",
     "text": [
      "23881\n",
      "23881\n",
      "(0.0048828125, '87843948-af0d-439f-ab7f-d93ffa4e8969')\n",
      "(0.0048828125, '87843948-af0d-439f-ab7f-d93ffa4e8969')\n"
     ]
    }
   ],
   "source": [
    "print(len(math_real_rdi))\n",
    "print(len(english_real_d))\n",
    "print(min([(x[0], x[3]) for x in english_real_rdi]))\n",
    "print(min([(x[0], x[3]) for x in math_real_rdi]))\n"
   ]
  },
  {
   "cell_type": "code",
   "execution_count": null,
   "metadata": {},
   "outputs": [
    {
     "data": {
      "image/png": "[encoded data removed]",
      "text/plain": [
       "<Figure size 640x480 with 2 Axes>"
      ]
     },
     "metadata": {},
     "output_type": "display_data"
    }
   ],
   "source": [
    "figure, ax = plt.subplots(2)\n",
    "ax[0].hist(math_real_conf, bins = 100)\n",
    "ax[1].hist(math_fake_conf, bins = 100)\n",
    "figure.show()"
   ]
  },
  {
   "cell_type": "code",
   "execution_count": null,
   "metadata": {},
   "outputs": [],
   "source": [
    "all_rdi = math_rdi+english_rdi\n",
    "print(len(all_rdi))\n",
    "with open(\"/home/alien_yhl/data/img_retrieval_wrong/need_confirm/need_confirm.txt\", 'w') as f:\n",
    "    f.writelines('\\n'.join(all_rdi))"
   ]
  },
  {
   "cell_type": "code",
   "execution_count": null,
   "metadata": {},
   "outputs": [],
   "source": [
    "english_rdi = [x[3] for x in real_rdi if x[0]<0.4 or x[1] >20]\n",
    "print(english_rdi[0:5])\n",
    "print(len(english_rdi))\n",
    "with open(\"/home/alien_yhl/data/img_retrieval_wrong/need_confirm/english_need_confirm.txt\", 'w') as f:\n",
    "    f.writelines('\\n'.join(english_rdi))"
   ]
  },
  {
   "cell_type": "code",
   "execution_count": null,
   "metadata": {},
   "outputs": [],
   "source": [
    "math_rdi = [x[3] for x in real_rdi if x[0]<0.2 or x[1] > 10 ]\n",
    "print(math_rdi[0:5])\n",
    "print(len(math_rdi))\n",
    "with open(\"/home/alien_yhl/data/img_retrieval_wrong/need_confirm/math_need_confirm.txt\", 'w') as f:\n",
    "    f.writelines('\\n'.join(math_rdi))"
   ]
  },
  {
   "cell_type": "code",
   "execution_count": null,
   "metadata": {},
   "outputs": [],
   "source": [
    "figure, ax = plt.subplots()\n",
    "ax.scatter(r,d,s = 0.2)\n"
   ]
  },
  {
   "cell_type": "code",
   "execution_count": null,
   "metadata": {},
   "outputs": [],
   "source": [
    "figure, ax = plt.subplots()\n",
    "ax.scatter(real_r, real_d, s = 0.2)\n"
   ]
  },
  {
   "cell_type": "code",
   "execution_count": null,
   "metadata": {},
   "outputs": [
    {
     "name": "stderr",
     "output_type": "stream",
     "text": [
      "100%|██████████| 23952/23952 [00:16<00:00, 1419.21it/s]"
     ]
    },
    {
     "name": "stdout",
     "output_type": "stream",
     "text": [
      "29321\n"
     ]
    },
    {
     "name": "stderr",
     "output_type": "stream",
     "text": [
      "\n"
     ]
    }
   ],
   "source": [
    "#calculate all temps including the templates rejected by the old algrihm\n",
    "\n",
    "import json\n",
    "from tqdm import tqdm\n",
    "with open(\"/home/alien_yhl/workspace/img_align/test/english_23952.txt\", 'r') as f:\n",
    "    math_list = f.readlines()\n",
    "candidate = 0\n",
    "for i in tqdm(math_list):\n",
    "    i = i.strip()\n",
    "    with open(\"/home/alien_yhl/data/image_retrieval/anno/\"+i+\".json\", 'r') as f:\n",
    "        data = json.load(f)\n",
    "    candidate += len(data[\"candidate_template_images\"])\n",
    "print(candidate)"
   ]
  },
  {
   "cell_type": "code",
   "execution_count": null,
   "metadata": {},
   "outputs": [],
   "source": []
  }
 ],
 "metadata": {
  "kernelspec": {
   "display_name": "base",
   "language": "python",
   "name": "python3"
  },
  "language_info": {
   "codemirror_mode": {
    "name": "ipython",
    "version": 3
   },
   "file_extension": ".py",
   "mimetype": "text/x-python",
   "name": "python",
   "nbconvert_exporter": "python",
   "pygments_lexer": "ipython3",
   "version": "3.8.16"
  },
  "orig_nbformat": 4,
  "vscode": {
   "interpreter": {
    "hash": "f8e6479fc8617445fb29e899636d8195bd84b89c2b3672db124c6479c10934b7"
   }
  }
 },
 "nbformat": 4,
 "nbformat_minor": 2
}
